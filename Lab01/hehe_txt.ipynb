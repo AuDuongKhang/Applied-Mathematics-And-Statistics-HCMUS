{
 "cells": [
  {
   "cell_type": "markdown",
   "metadata": {
    "id": "vtb6VzZcIA0G"
   },
   "source": [
    "# <center>Vector và Hệ phương trình tuyến tính trong Python</center>"
   ]
  },
  {
   "cell_type": "markdown",
   "metadata": {
    "id": "1A9sTtSGIA0H"
   },
   "source": [
    "## Mục lục\n",
    "\n",
    "* [Python và các thư viện tính toán khoa học](#c2)\n",
    "* [Vector trong Python](#c3)\n",
    "* [Ma trận (cơ bản) trong Python](#c4)\n",
    "* [Hệ phương trình tuyến tính và Phép khử Gauss trong Python](#c5)\n",
    "* [Không gian con, cơ sở và số chiều](#c6)\n",
    "* [Trực giao hóa với thuật giải Gram-Schmidt](#c7)\n",
    "* [Bài tập](#c8)"
   ]
  },
  {
   "cell_type": "markdown",
   "metadata": {
    "id": "xsVdMHYBIA0H"
   },
   "source": [
    "## Python và các thư viện tính toán khoa học <a class=\"anchor\" id=\"c2\"></a>"
   ]
  },
  {
   "cell_type": "markdown",
   "metadata": {
    "id": "KKlbkoCZIA0I"
   },
   "source": [
    "[Python](https://www.python.org/) là ngôn ngữ lập trình được dùng phổ biến cho tính toán khoa học (và nhiều mục đích khác). Tài liệu tra cứu chính thống của Python được để ở [Python documentation](https://docs.python.org/3/index.html). Có thể dùng hướng dẫn [The Python Tutorial](https://docs.python.org/3/tutorial/) để học nhanh Python. Có thể dùng sách [Bí kíp luyện Lập trình nhập môn với Python (hBook)](https://github.com/vqhBook/python) để học kĩ Python căn bản. Ngoài ra, có thể dùng một số nguồn tham khảo khác như [Python3 Tutorial](https://www.python-course.eu/python3_course.php), [Numerical Programming with Python](https://www.python-course.eu/numerical_programming_with_python.php), [GeeksforGeeks](https://www.geeksforgeeks.org/python-programming-language/)..."
   ]
  },
  {
   "cell_type": "markdown",
   "metadata": {
    "id": "Igkl4gYGIA0I"
   },
   "source": [
    "Các thư viện Python phổ biến dùng trong tính toán khoa học là: [NumPy](https://numpy.org/), [SciPy](https://www.scipy.org/), [SymPy](https://www.sympy.org/en/index.html), [pandas](https://pandas.pydata.org/), [scikit-learn](https://scikit-learn.org/stable/), [Matplotlib](https://matplotlib.org/)... Các thư viện này sẽ được giới thiệu, hướng dẫn và dùng trong các buổi Lab, đồ án."
   ]
  },
  {
   "cell_type": "markdown",
   "metadata": {
    "id": "dB22oSb4IA0I"
   },
   "source": [
    "NumPy và SciPy là các thư viện **tính toán số** (numeric computation) giúp tính xấp xỉ nhưng hiệu quả với khối lượng tính toán lớn. Có thể học nhanh NumPy tại [NumPy - the absolute basics for beginners](https://numpy.org/doc/stable/user/absolute_beginners.html)."
   ]
  },
  {
   "cell_type": "markdown",
   "metadata": {
    "id": "hyNPM-hFIA0I"
   },
   "source": [
    "SymPy là thư viện **tính toán ký hiệu** (symbolic computation) giúp tính chính xác và hình thức với khối lượng tính toán nhỏ. Có thể học nhanh SymPy tại [SymPy Introduction](https://docs.sympy.org/latest/tutorial/intro.html) và [SymPy Matrices](https://docs.sympy.org/latest/tutorial/matrices.html)."
   ]
  },
  {
   "cell_type": "markdown",
   "metadata": {
    "id": "C0VdiOq1IA0I"
   },
   "source": [
    "Tra cứu các hỗ trợ cho **đại số tuyến tính** (linear algebra) tại:\n",
    "\n",
    "* [Linear algebra (numpy.linalg)](https://numpy.org/doc/stable/reference/routines.linalg.html#)\n",
    "\n",
    "* [Linear algebra (scipy.linalg)](https://docs.scipy.org/doc/scipy/reference/linalg.html#module-scipy.linalg)\n",
    "\n",
    "* [SymPy Matrices (linear algebra)](https://docs.sympy.org/latest/modules/matrices/matrices.html)"
   ]
  },
  {
   "cell_type": "markdown",
   "metadata": {
    "id": "eytHF8sOIA0I"
   },
   "source": [
    "Một số thư viện có dùng trong bài lab này:\n",
    "\n",
    "* Module [`math`](https://docs.python.org/3/library/math.html) trong thư viện chuẩn Python hỗ trợ các hàm Toán thông dụng.\n",
    "\n",
    "* Lớp [`fractions.Fraction`](https://docs.python.org/3/library/fractions.html) trong thư viện chuẩn Python hỗ trợ kiểu phân số dùng để tính toán chính xác.\n",
    "\n",
    "* Các thư viện `numpy`, `scipy`, `sympy`.\n",
    "\n",
    "* Ngoài ra, hàm `to_fraction` giúp tạo phân số (từ chuỗi, số nguyên, danh sách các số...) khi muốn tính toán chính xác và hàm `myprint` giúp \"xuất đẹp\" các danh sách (vector, tập vector, ma trận)."
   ]
  },
  {
   "cell_type": "code",
   "execution_count": 1,
   "metadata": {
    "id": "mxR--xPEIA0J",
    "scrolled": true
   },
   "outputs": [
    {
     "ename": "ModuleNotFoundError",
     "evalue": "No module named 'sympy'",
     "output_type": "error",
     "traceback": [
      "\u001b[1;31m---------------------------------------------------------------------------\u001b[0m",
      "\u001b[1;31mModuleNotFoundError\u001b[0m                       Traceback (most recent call last)",
      "Cell \u001b[1;32mIn[1], line 5\u001b[0m\n\u001b[0;32m      3\u001b[0m \u001b[39mimport\u001b[39;00m \u001b[39mnumpy\u001b[39;00m \u001b[39mas\u001b[39;00m \u001b[39mnp\u001b[39;00m\n\u001b[0;32m      4\u001b[0m \u001b[39mimport\u001b[39;00m \u001b[39mscipy\u001b[39;00m\u001b[39m.\u001b[39;00m\u001b[39mlinalg\u001b[39;00m\n\u001b[1;32m----> 5\u001b[0m \u001b[39mimport\u001b[39;00m \u001b[39msympy\u001b[39;00m\n\u001b[0;32m      6\u001b[0m \u001b[39mfrom\u001b[39;00m \u001b[39msympy\u001b[39;00m \u001b[39mimport\u001b[39;00m Matrix\n\u001b[0;32m      8\u001b[0m sympy\u001b[39m.\u001b[39minit_printing()\n",
      "\u001b[1;31mModuleNotFoundError\u001b[0m: No module named 'sympy'"
     ]
    }
   ],
   "source": [
    "import math\n",
    "from fractions import Fraction\n",
    "import numpy as np\n",
    "import scipy.linalg\n",
    "import sympy\n",
    "from sympy import Matrix\n",
    "\n",
    "sympy.init_printing()\n",
    "\n",
    "x = [\"1/2\", \"2/3\"]\n",
    "def to_fraction(x):\n",
    "    if isinstance(x, list):\n",
    "        return [to_fraction(e) for e in x] # list comprehension\n",
    "    else:\n",
    "        return Fraction(x) # \"1/2\" --> 1/2\n",
    "\n",
    "\n",
    "    # # Another way to implement this function, without using list comprehension.\n",
    "    # #     It is a little bit longer!!!\n",
    "    # if not isinstance(x, list):\n",
    "    #     return Fraction(x)\n",
    "\n",
    "    # res = []\n",
    "    # n = len(x)\n",
    "    # for i in range(n): # for (i = 0; i < n; i++)\n",
    "    #     res.append(to_fraction(x[i]))\n",
    "\n",
    "    # return res\n",
    "\n",
    "\n",
    "def myprint(x, sep=\" \"):\n",
    "    if isinstance(x, list) and x:\n",
    "        if isinstance(x[0], list): # list of list\n",
    "            m, n = len(x), len(x[0])\n",
    "            widths = [max(len(str(ai[j])) for ai in x) for j in range(n)]\n",
    "            rows = [sep.join(format(str(ai[j]), f\">{widths[j]}\") for j in range(n)) for ai in x]\n",
    "            print(\"[\" + \"\\n\".join((\" [\" if i > 0 else \"[\") + rows[i] + \"]\" for i in range(m)) + \"]\")\n",
    "        else: # list\n",
    "            print(\"[\" + sep.join(str(e) for e in x) + \"]\")\n",
    "    else:\n",
    "        print(x)"
   ]
  },
  {
   "cell_type": "markdown",
   "metadata": {
    "id": "u2SPYQjQIA0J"
   },
   "source": [
    "## Vector trong Python <a class=\"anchor\" id=\"c3\"></a>"
   ]
  },
  {
   "cell_type": "markdown",
   "metadata": {
    "id": "15IqCfAAIA0J"
   },
   "source": [
    "Một bộ gồm $n$ số thực (n-tuple) $\\boldsymbol{v} = (v_1, v_2, ..., v_n) \\in \\mathbb{R}^n$ được gọi là một **vector** kích thước $n$. Các số $v_1, v_2, ..., v_n \\in \\mathbb{R}$ được gọi là các **phần tử** (element, entry) của vector. Để phân biệt với vector, các số thực còn được gọi là **vô hướng** (scalar)."
   ]
  },
  {
   "cell_type": "markdown",
   "metadata": {
    "id": "egjdO1tBIA0K"
   },
   "source": [
    "Cách đơn giản nhất để biểu diễn vector là dùng **danh sách** (list) các số. Cách hiệu quả và tiện lợi hơn là dùng **NumPy 1D array**."
   ]
  },
  {
   "cell_type": "markdown",
   "metadata": {
    "id": "8s98fB5LIA0K"
   },
   "source": [
    "### Khai báo"
   ]
  },
  {
   "cell_type": "code",
   "execution_count": null,
   "metadata": {
    "id": "eiR7tH7TIA0K",
    "outputId": "28352cab-7c1c-4961-c720-87576ef17495"
   },
   "outputs": [
    {
     "name": "stdout",
     "output_type": "stream",
     "text": [
      "Use list:  [1, 2, 3, 4, 5]\n",
      "Use NumPy:  [1 2 3 4 5]\n",
      "The first element in vector (list):  1\n",
      "The last element in vector (NumPy):  5\n",
      "Subvector (1st -> 3rd) in vector (list):  [1, 2, 3]\n",
      "Subvector (3 last elements) in vector (NumPy):  [3 4 5]\n"
     ]
    }
   ],
   "source": [
    "# Init\n",
    "v_list = [1, 2, 3, 4, 5]            # Uses list\n",
    "v_numpy = np.array([1, 2, 3, 4, 5]) # Uses NumPy\n",
    "\n",
    "# Display the values\n",
    "print('Use list: ', v_list)\n",
    "print('Use NumPy: ', v_numpy)\n",
    "\n",
    "# Access elements (basic)\n",
    "print('The first element in vector (list): ', v_list[0])\n",
    "print('The last element in vector (NumPy): ', v_numpy[-1])\n",
    "\n",
    "print('Subvector (1st -> 3rd) in vector (list): ', v_list[:3])          # Other ways?\n",
    "print('Subvector (3 last elements) in vector (NumPy): ', v_numpy[-3:])  # Other ways?"
   ]
  },
  {
   "cell_type": "markdown",
   "metadata": {
    "id": "ptVpL1iYIA0K"
   },
   "source": [
    "Tùy trường hợp, vector $\\boldsymbol{v} = (v_1, v_2, ..., v_n) \\in \\mathbb{R}^n$ có thể được biểu diễn như là **vector dòng** (row vector) hay **vector cột** (column vector)\n",
    "$$\n",
    "\\boldsymbol{v} =\n",
    "\\begin{bmatrix}\n",
    "v_1 & v_2 & \\cdots & v_n\n",
    "\\end{bmatrix} \\in \\mathbb{R}^{1 \\times n},\n",
    "$$\n",
    "$$\n",
    "\\boldsymbol{v} =\n",
    "\\begin{bmatrix}\n",
    "v_1 \\\\ v_2 \\\\ \\vdots \\\\ v_n\n",
    "\\end{bmatrix} \\in \\mathbb{R}^{n \\times 1}.\n",
    "$$"
   ]
  },
  {
   "cell_type": "code",
   "execution_count": null,
   "metadata": {
    "id": "kYxOpcpLIA0L",
    "outputId": "944d090b-2de2-4f29-c0c2-a52203ef3780",
    "scrolled": true
   },
   "outputs": [
    {
     "data": {
      "image/png": "[encoded data removed]",
      "text/latex": [
       "$\\displaystyle \\left( 5,\\right)$"
      ],
      "text/plain": [
       "(5,)"
      ]
     },
     "execution_count": 4,
     "metadata": {},
     "output_type": "execute_result"
    }
   ],
   "source": [
    "v_numpy.shape"
   ]
  },
  {
   "cell_type": "code",
   "execution_count": null,
   "metadata": {
    "id": "Ncef_vRYIA0L",
    "outputId": "2e8bf51b-bde1-47b8-d0ba-ff9df76bc480",
    "scrolled": false
   },
   "outputs": [
    {
     "name": "stdout",
     "output_type": "stream",
     "text": [
      "Row vector: \n",
      " [[1 2 3 4 5]] \n",
      "Shape:  (1, 5)\n",
      "\n",
      "Column vector: \n",
      " [[1]\n",
      " [2]\n",
      " [3]\n",
      " [4]\n",
      " [5]] \n",
      "Shape:  (5, 1)\n"
     ]
    }
   ],
   "source": [
    "# Uses NumPy\n",
    "v_row = v_numpy.reshape(1, len(v_numpy))\n",
    "v_col = v_numpy.reshape(len(v_numpy), 1)\n",
    "\n",
    "print('Row vector: \\n', v_row, '\\nShape: ', v_row.shape)\n",
    "print('\\nColumn vector: \\n', v_col, '\\nShape: ', v_col.shape)"
   ]
  },
  {
   "cell_type": "code",
   "execution_count": null,
   "metadata": {
    "id": "ptvhaKFsIA0L",
    "outputId": "d6290bfc-fe45-4e38-c794-2447f30ff0ec",
    "scrolled": true
   },
   "outputs": [
    {
     "data": {
      "text/latex": [
       "$\\displaystyle \\left[\\begin{matrix}1\\\\2\\\\3\\\\4\\\\5\\end{matrix}\\right]$"
      ],
      "text/plain": [
       "⎡1⎤\n",
       "⎢ ⎥\n",
       "⎢2⎥\n",
       "⎢ ⎥\n",
       "⎢3⎥\n",
       "⎢ ⎥\n",
       "⎢4⎥\n",
       "⎢ ⎥\n",
       "⎣5⎦"
      ]
     },
     "execution_count": 6,
     "metadata": {},
     "output_type": "execute_result"
    }
   ],
   "source": [
    "# Uses SymPy\n",
    "Matrix([1, 2, 3, 4, 5]) # SymPy treats a vector as a column vector, which is a matrix with only 1 column"
   ]
  },
  {
   "cell_type": "markdown",
   "metadata": {
    "id": "hb5QpfPoIA0L"
   },
   "source": [
    "### Vector không (zero vector)"
   ]
  },
  {
   "cell_type": "markdown",
   "metadata": {
    "id": "Kx2_mD3IIA0L"
   },
   "source": [
    "Vector $\\boldsymbol{0} = (0, 0, ..., 0) \\in \\mathbb{R}^n$ được gọi là **vector không** (zero vector)."
   ]
  },
  {
   "cell_type": "markdown",
   "metadata": {
    "id": "CuotiSMFIA0L"
   },
   "source": [
    "2 vector $\\boldsymbol{v} = (v_1, v_2, ..., v_n), \\boldsymbol{w} = (w_1, w_2, ..., w_n) \\in \\mathbb{R}^n$ được gọi là **bằng nhau** (equal), kí hiệu $\\boldsymbol{v} = \\boldsymbol{w}$ nếu $v_i = w_i, \\forall i$."
   ]
  },
  {
   "cell_type": "markdown",
   "metadata": {
    "id": "8j8aRPrrIA0L"
   },
   "source": [
    "#### Sử dụng list"
   ]
  },
  {
   "cell_type": "code",
   "execution_count": null,
   "metadata": {
    "id": "U1VTVfdlIA0L"
   },
   "outputs": [],
   "source": [
    "# Define functions\n",
    "def is_zero(x):\n",
    "    # Check if a real number x is equal to 0 (or is very close to 0)\n",
    "    return math.isclose(x, 0, abs_tol=1e-09)\n",
    "    # |a - b| <= 0.00000000001 --> a ~ b\n",
    "\n",
    "def create_zero_vector(n):\n",
    "    return [0 for _ in range(n)] #for _ in [0..n-1]\n",
    "    # [0, 0, 0]\n",
    "\n",
    "def is_zero_vector(v):\n",
    "    return all(is_zero(vi) for vi in v)"
   ]
  },
  {
   "cell_type": "code",
   "execution_count": null,
   "metadata": {
    "id": "wOD7BX-AIA0M",
    "outputId": "5e542c63-e8f3-4774-dcd9-978f763dfad7",
    "scrolled": true
   },
   "outputs": [
    {
     "name": "stdout",
     "output_type": "stream",
     "text": [
      "[0, 0, 0]\n",
      "Is zero vector:  True\n"
     ]
    }
   ],
   "source": [
    "v = create_zero_vector(3)\n",
    "\n",
    "# Display value\n",
    "print(v)\n",
    "\n",
    "# Check if v is a zero vector\n",
    "print('Is zero vector: ', is_zero_vector(v))"
   ]
  },
  {
   "cell_type": "markdown",
   "metadata": {
    "id": "-W8LNlyfIA0M"
   },
   "source": [
    "##### TODO: Tìm hiểu thêm"
   ]
  },
  {
   "cell_type": "code",
   "execution_count": null,
   "metadata": {
    "id": "VIf84EzmIA0M"
   },
   "outputs": [
    {
     "data": {
      "text/plain": [
       "True"
      ]
     },
     "execution_count": 12,
     "metadata": {},
     "output_type": "execute_result"
    }
   ],
   "source": [
    "# What is the output when we call: v == 0?\n",
    "# What is the output when we call: v == create_zero_vector(3)?\n",
    "# Give explanations\n",
    "v == 0\n",
    "#False because 0 is not a vector, 0 is a number or a vector with 1 value.\n",
    "v == create_zero_vector(3)\n",
    "#True because we create a vector with 3 values all zero."
   ]
  },
  {
   "cell_type": "markdown",
   "metadata": {
    "id": "fyuoHdRxIA0N"
   },
   "source": [
    "#### Sử dụng NumPy"
   ]
  },
  {
   "cell_type": "code",
   "execution_count": null,
   "metadata": {
    "id": "RgCIUG6BIA0N",
    "outputId": "8de505fd-6f9e-4b93-e0b1-1151366e0837",
    "scrolled": false
   },
   "outputs": [
    {
     "name": "stdout",
     "output_type": "stream",
     "text": [
      "[0. 0. 0.]\n",
      "Is zero vector (using built-in function),  True\n",
      "Is zero vector (using our implemented function):  True\n"
     ]
    }
   ],
   "source": [
    "v = np.zeros(3)\n",
    "\n",
    "# Display value\n",
    "print(v)\n",
    "\n",
    "# Check if v is a zero vector\n",
    "print('Is zero vector (using built-in function), ', all(v == 0))                # What is the meaning of all(v == 0)?\n",
    "print('Is zero vector (using our implemented function): ', is_zero_vector(v))"
   ]
  },
  {
   "cell_type": "markdown",
   "metadata": {
    "id": "3r2rlxNqIA0N"
   },
   "source": [
    "### Các phép toán trong Vector"
   ]
  },
  {
   "cell_type": "markdown",
   "metadata": {
    "id": "wvYx4byIIA0N"
   },
   "source": [
    "Cho 2 vector $\\boldsymbol{v} = (v_1, v_2, ..., v_n), \\boldsymbol{w} = (w_1, w_2, ..., w_n) \\in \\mathbb{R}^n$ và số thực $\\alpha \\in \\mathbb{R}$, ta định nghĩa các phép toán\n",
    "$$\n",
    "\\boldsymbol{v} + \\boldsymbol{w} = (v_1 + w_1, v_2 + w_2, ..., v_n + w_n),\n",
    "$$\n",
    "$$\n",
    "\\boldsymbol{v} - \\boldsymbol{w} = (v_1 - w_1, v_2 - w_2, ..., v_n - w_n),\n",
    "$$\n",
    "$$\n",
    "\\alpha \\boldsymbol{v} = (\\alpha v_1, \\alpha v_2, ..., \\alpha v_n).\n",
    "$$"
   ]
  },
  {
   "cell_type": "markdown",
   "metadata": {
    "id": "lVBS0u5fIA0N"
   },
   "source": [
    "Cho tập các vector $\\boldsymbol{v}_1, \\boldsymbol{v}_2, ..., \\boldsymbol{v}_k \\in \\mathbb{R}^n$ và các số $\\alpha_1, \\alpha_2, ..., \\alpha_k \\in \\mathbb{R}$, ta nói vector\n",
    "$$\n",
    "\\boldsymbol{w} = \\alpha_1 \\boldsymbol{v}_1 + \\alpha_2 \\boldsymbol{v}_2 + ... + \\alpha_k \\boldsymbol{v}_k\n",
    "$$\n",
    "\n",
    "là một **tổ hợp tuyến tính** (linear combination) của $\\boldsymbol{v}_1, \\boldsymbol{v}_2, ..., \\boldsymbol{v}_k$ với các **hệ số** (coefficient) $\\alpha_1, \\alpha_2, ..., \\alpha_k$."
   ]
  },
  {
   "cell_type": "markdown",
   "metadata": {
    "id": "zDM77qxlIA0N"
   },
   "source": [
    "#### Sử dụng List"
   ]
  },
  {
   "cell_type": "code",
   "execution_count": null,
   "metadata": {
    "id": "414P1ve-IA0O"
   },
   "outputs": [],
   "source": [
    "# Define functions\n",
    "def add_vector(v, w):\n",
    "    return [vi + wi for vi, wi in zip(v, w)]\n",
    "\n",
    "def sub_vector(v, w):\n",
    "    return [vi - wi for vi, wi in zip(v, w)]\n",
    "\n",
    "def mul_scalar_vector(alpha, v):\n",
    "    return [alpha*vi for vi in v]\n",
    "\n",
    "def equal_vector(v, w):\n",
    "    return is_zero_vector(sub_vector(v, w)) # 2 vectors are equal if their difference is the zero vector"
   ]
  },
  {
   "cell_type": "code",
   "execution_count": null,
   "metadata": {
    "id": "9E-IIE9vIA0O",
    "outputId": "daeb8eff-30c9-41b1-d8a3-78187cf0cebd",
    "scrolled": false
   },
   "outputs": [],
   "source": [
    "v = [1, -3, 2]\n",
    "w = [4, 2, 1]\n",
    "\n",
    "print('Tổng 2 vector: ', add_vector(v, w))\n",
    "print('Hiệu 2 vector: ', sub_vector(v, w))\n",
    "print('Vector v nhân 2: ', mul_scalar_vector(2, v))\n",
    "print('So sánh vector (v - w) == (v + (-1w)): ', equal_vector(sub_vector(v, w), add_vector(v, mul_scalar_vector(-1, w))))"
   ]
  },
  {
   "cell_type": "markdown",
   "metadata": {
    "id": "h_5AzgYbIA0O"
   },
   "source": [
    "#### Sử dụng NumPy"
   ]
  },
  {
   "cell_type": "code",
   "execution_count": null,
   "metadata": {
    "id": "U3lkQrg5IA0O",
    "outputId": "e3e6c793-ed07-4d26-afae-7bafdcf2dfde",
    "scrolled": false
   },
   "outputs": [
    {
     "ename": "NameError",
     "evalue": "name 'np' is not defined",
     "output_type": "error",
     "traceback": [
      "\u001b[1;31m---------------------------------------------------------------------------\u001b[0m",
      "\u001b[1;31mNameError\u001b[0m                                 Traceback (most recent call last)",
      "Cell \u001b[1;32mIn[1], line 1\u001b[0m\n\u001b[1;32m----> 1\u001b[0m v \u001b[39m=\u001b[39m np\u001b[39m.\u001b[39marray(v)\n\u001b[0;32m      2\u001b[0m w \u001b[39m=\u001b[39m np\u001b[39m.\u001b[39marray(w)\n\u001b[0;32m      4\u001b[0m \u001b[39mprint\u001b[39m(\u001b[39m'\u001b[39m\u001b[39mTổng 2 vector: \u001b[39m\u001b[39m'\u001b[39m, v \u001b[39m+\u001b[39m w)\n",
      "\u001b[1;31mNameError\u001b[0m: name 'np' is not defined"
     ]
    }
   ],
   "source": [
    "v = np.array(v)\n",
    "w = np.array(w)\n",
    "\n",
    "print('Tổng 2 vector: ', v + w)\n",
    "print('Hiệu 2 vector: ', v - w)\n",
    "print('Vector v nhân 2: ', 2 * v)\n",
    "print('So sánh vector: ', all((v - w) == (v + (-1*w))))"
   ]
  },
  {
   "cell_type": "markdown",
   "metadata": {
    "id": "vRHm2cSrIA0O"
   },
   "source": [
    "#### Sử dụng SymPy"
   ]
  },
  {
   "cell_type": "code",
   "execution_count": null,
   "metadata": {
    "id": "OyVpf339IA0O",
    "outputId": "a34c122b-06d5-490b-d3e9-bc18936ebd89",
    "scrolled": true
   },
   "outputs": [],
   "source": [
    "v = Matrix(v)\n",
    "w = Matrix(w)\n",
    "\n",
    "print('Tổng 2 vector: \\n', v + w)\n",
    "print('Hiệu 2 vector: \\n', v - w)\n",
    "print('Vector v nhân 2: \\n', 2*v)\n",
    "print('So sánh vector: ', v - w == v + (-1*w)) # Unlike NumPy, SymPy uses \"==\" operator to compare 2 vectors (matrice)"
   ]
  },
  {
   "cell_type": "code",
   "execution_count": null,
   "metadata": {
    "id": "AYrfOj7TIA0P",
    "outputId": "69a52e2e-3f33-4d5b-ba15-a3d46d0e6995",
    "scrolled": true
   },
   "outputs": [],
   "source": [
    "print('Tổ hợp tuyến tính:')\n",
    "sympy.symbols(\"alpha\")*v + sympy.symbols(\"beta\")*w"
   ]
  },
  {
   "cell_type": "markdown",
   "metadata": {
    "id": "waRe4u3KIA0P"
   },
   "source": [
    "### Tích vô hướng"
   ]
  },
  {
   "cell_type": "markdown",
   "metadata": {
    "id": "y7vf7ZBAIA0P"
   },
   "source": [
    "Cho 2 vector $\\boldsymbol{v} = (v_1, v_2, ..., v_n), \\boldsymbol{w} = (w_1, w_2, ..., w_n) \\in \\mathbb{R}^n$:"
   ]
  },
  {
   "cell_type": "markdown",
   "metadata": {
    "id": "CYeVPj6jIA0P"
   },
   "source": [
    "Ta định nghĩa **tích vô hướng** (inner product, dot product) của $\\boldsymbol{v}, \\boldsymbol{w}$ là\n",
    "$$\n",
    "\\langle \\boldsymbol{v}, \\boldsymbol{w} \\rangle = v_1w_1 + v_2w_2 + ... + v_n w_n = \\sum_{i=1}^n v_i w_i,\n",
    "$$"
   ]
  },
  {
   "cell_type": "code",
   "execution_count": null,
   "metadata": {
    "id": "8zvHB4OXIA0Q"
   },
   "outputs": [],
   "source": [
    "def calc_inner_product(v, w):\n",
    "    return sum(vi*wi for vi, wi in zip(v, w)) # What is zip function?"
   ]
  },
  {
   "cell_type": "code",
   "execution_count": null,
   "metadata": {
    "id": "2iR7rv3eIA0Q",
    "outputId": "9224d336-16b5-4d1e-e9d8-4c1329daa176",
    "scrolled": true
   },
   "outputs": [],
   "source": [
    "v = [1, 2, 3]\n",
    "w = [4, 5, 2]\n",
    "\n",
    "print('Tích vô hướng: ', calc_inner_product(v, w))"
   ]
  },
  {
   "cell_type": "markdown",
   "metadata": {
    "id": "aAEyQnkOIA0Q"
   },
   "source": [
    "### Trực giao"
   ]
  },
  {
   "cell_type": "markdown",
   "metadata": {
    "id": "5Ww9Ahz-IA0Q"
   },
   "source": [
    "Ta nói $\\boldsymbol{v}, \\boldsymbol{w}$ **trực giao** (orthogonal, perpendicular), kí hiệu $\\boldsymbol{v} \\bot \\boldsymbol{w}$, nếu $\\langle \\boldsymbol{v}, \\boldsymbol{w} \\rangle = 0$,"
   ]
  },
  {
   "cell_type": "code",
   "execution_count": null,
   "metadata": {
    "id": "-luGhXPpIA0Q"
   },
   "outputs": [],
   "source": [
    "def is_orthogonal(v, w):\n",
    "    return is_zero(calc_inner_product(v, w))"
   ]
  },
  {
   "cell_type": "code",
   "execution_count": null,
   "metadata": {
    "id": "UawJ1U7BIA0Q",
    "outputId": "ee882747-4833-4bb0-eb6f-24794500d4cd",
    "scrolled": true
   },
   "outputs": [],
   "source": [
    "v = [1, -2, 3]\n",
    "w = [4, 5, 2]\n",
    "\n",
    "print('Trực giao: ', is_orthogonal(v, w))"
   ]
  },
  {
   "cell_type": "markdown",
   "metadata": {
    "id": "LGnIkwOUIA0Q"
   },
   "source": [
    "### Chuẩn"
   ]
  },
  {
   "cell_type": "markdown",
   "metadata": {
    "id": "sT_HjAijIA0Q"
   },
   "source": [
    "Ta định nghĩa **chuẩn** (norm, length, magnitude) của $\\boldsymbol{v}$ là\n",
    "$$\n",
    "\\| \\boldsymbol{v} \\| = \\sqrt{\\langle \\boldsymbol{v}, \\boldsymbol{v} \\rangle} = \\sqrt{v_1^2 + v_2^2 + ... + v_n^2} = \\sqrt{\\sum_{i=1}^n v_i^2},\n",
    "$$"
   ]
  },
  {
   "cell_type": "code",
   "execution_count": null,
   "metadata": {
    "id": "nmiSBaSzIA0R"
   },
   "outputs": [],
   "source": [
    "def norm_square(v):\n",
    "    return calc_inner_product(v, v)\n",
    "\n",
    "def norm(v):\n",
    "    return sympy.sqrt(norm_square(v)) # Uses SymPy to get sqrt symbol"
   ]
  },
  {
   "cell_type": "code",
   "execution_count": null,
   "metadata": {
    "id": "he6ikRxfIA0R",
    "outputId": "fce352c7-b4fc-4d58-88b9-2516a0552ad6",
    "scrolled": true
   },
   "outputs": [],
   "source": [
    "v = [1, 2, 3]\n",
    "\n",
    "print('Chuẩn: ')\n",
    "norm(v)"
   ]
  },
  {
   "cell_type": "markdown",
   "metadata": {
    "id": "jyIxfhx4IA0R"
   },
   "source": [
    "### Vector đơn vị"
   ]
  },
  {
   "cell_type": "markdown",
   "metadata": {
    "id": "2H6hVMORIA0R"
   },
   "source": [
    "Ta nói $\\boldsymbol{v}$ là **vector đơn vị** (unit vector) nếu $\\| \\boldsymbol{v} \\| = 1$,"
   ]
  },
  {
   "cell_type": "code",
   "execution_count": null,
   "metadata": {
    "id": "bKj73EmpIA0R"
   },
   "outputs": [],
   "source": [
    "def is_one(v):\n",
    "    return math.isclose(v, 1)\n",
    "\n",
    "def is_unit_vector(v):\n",
    "    return is_one(norm(v))"
   ]
  },
  {
   "cell_type": "code",
   "execution_count": null,
   "metadata": {
    "id": "ySZZIWxKIA0R",
    "outputId": "20288a0a-8ca2-4d62-8bba-5e9f741dcce9",
    "scrolled": true
   },
   "outputs": [],
   "source": [
    "one = [1, 0, 0]\n",
    "\n",
    "print('Là vector đơn vị: ', is_unit_vector(one))"
   ]
  },
  {
   "cell_type": "markdown",
   "metadata": {
    "id": "eZqMHCvtIA0S"
   },
   "source": [
    "### Khoảng cách"
   ]
  },
  {
   "cell_type": "markdown",
   "metadata": {
    "id": "OjblCUKQIA0S"
   },
   "source": [
    "Ta định nghĩa **khoảng cách** (distance) giữa $\\boldsymbol{v}$ và $\\boldsymbol{w}$ là $\\| \\boldsymbol{v} - \\boldsymbol{w} \\|$."
   ]
  },
  {
   "cell_type": "code",
   "execution_count": null,
   "metadata": {
    "id": "jbY1CFMyIA0S"
   },
   "outputs": [],
   "source": [
    "def distance(v, w):\n",
    "    return norm(sub_vector(v, w))"
   ]
  },
  {
   "cell_type": "code",
   "execution_count": null,
   "metadata": {
    "id": "wRafj3piIA0S",
    "outputId": "f4055247-0651-43cd-ffcc-9c46b7b07438"
   },
   "outputs": [],
   "source": [
    "v = [1, -2, 3]\n",
    "w = [4, 5, 2]\n",
    "\n",
    "print('Khoảng cách:')\n",
    "distance(v, w)"
   ]
  },
  {
   "cell_type": "markdown",
   "metadata": {
    "id": "Q842Kfo4IA0S"
   },
   "source": [
    "### TODO: Tìm hiểu thêm\n",
    "\n",
    "Tìm hiểu cách sử dụng NumPy và SymPy cho các khái niệm được liệt kê phía trên (từ Trực giao đến Khoảng cách)"
   ]
  },
  {
   "cell_type": "markdown",
   "metadata": {
    "id": "Scu_5HhjIA0S"
   },
   "source": [
    "## Ma trận (cơ bản) trong Python <a class=\"anchor\" id=\"c4\"></a>\n",
    "\n",
    "*(Ma trận sẽ được hướng dẫn kĩ hơn trong Lab 2.)*"
   ]
  },
  {
   "cell_type": "markdown",
   "metadata": {
    "id": "b_RyAcYeIA0S"
   },
   "source": [
    "### Khái niệm"
   ]
  },
  {
   "cell_type": "markdown",
   "metadata": {
    "id": "7_XYMZ6uIA0T"
   },
   "source": [
    "Một bảng chữ nhật gồm $m$ dòng, $n$ cột các số thực\n",
    "$$\n",
    "A =\n",
    "\\begin{bmatrix}\n",
    "  a_{11} & a_{12} & \\cdots & a_{1n} \\\\\n",
    "  a_{21} & a_{22} & \\cdots & a_{2n} \\\\\n",
    "  \\vdots  & \\vdots  & \\ddots & \\vdots  \\\\\n",
    "  a_{m1} & a_{m2} & \\cdots & a_{mn}\n",
    "\\end{bmatrix} \\in \\mathbb{R}^{m \\times n}\n",
    "$$\n",
    "được gọi là **ma trận** (matrix) có kích thước (hay có dạng) $m \\times n$. Số $a_{ij}$ được gọi là **phần tử** (element, entry) ở dòng $i$, cột $j$ của ma trận $A$."
   ]
  },
  {
   "cell_type": "markdown",
   "metadata": {
    "id": "I7-in-rNIA0T"
   },
   "source": [
    "Ma trận $A \\in \\mathbb{R}^{m \\times n}$ có thể xem như gồm $m$ vector dòng $\\mathbb{R}^{1 \\times n}$ với dòng $i$ là\n",
    "$$\n",
    "\\boldsymbol{a}_{i,} =\n",
    "\\begin{bmatrix}\n",
    "  a_{i1} & a_{i2} & \\cdots & a_{in} \\\\\n",
    "\\end{bmatrix},\n",
    "$$\n",
    "hay gồm $n$ vector cột $\\mathbb{R}^{m \\times 1}$ với cột $j$ là\n",
    "$$\n",
    "\\boldsymbol{a}_{,j} =\n",
    "\\begin{bmatrix}\n",
    "  a_{1j} \\\\ a_{2j} \\\\ \\vdots \\\\ a_{mj}\n",
    "\\end{bmatrix}.\n",
    "$$"
   ]
  },
  {
   "cell_type": "markdown",
   "metadata": {
    "id": "r40GETELIA0T"
   },
   "source": [
    "Ta nói ma trận có được từ $A$ bằng cách xếp các dòng thành các cột là ma trận **chuyển vị** (transpose) của $A$, kí hiệu $A^T$, tức là\n",
    "$$\n",
    "A^T =\n",
    "\\begin{bmatrix}\n",
    "  a_{11} & a_{21} & \\cdots & a_{m1} \\\\\n",
    "  a_{12} & a_{22} & \\cdots & a_{m2} \\\\\n",
    "  \\vdots  & \\vdots  & \\ddots & \\vdots  \\\\\n",
    "  a_{1n} & a_{2n} & \\cdots & a_{mn}\n",
    "\\end{bmatrix} \\in \\mathbb{R}^{n \\times m}.\n",
    "$$"
   ]
  },
  {
   "cell_type": "markdown",
   "metadata": {
    "id": "fSa8QnH8IA0T"
   },
   "source": [
    "Cách đơn giản nhất để biểu diễn ma trận là dùng **danh sách lồng** (nested list) các số. Cách hiệu quả và tiện lợi hơn là dùng **NumPy 2D array**."
   ]
  },
  {
   "cell_type": "markdown",
   "metadata": {
    "id": "9RTRwSOUIA0T"
   },
   "source": [
    "### Chuyển vị"
   ]
  },
  {
   "cell_type": "markdown",
   "metadata": {
    "id": "hINk0JlUIA0T"
   },
   "source": [
    "#### List"
   ]
  },
  {
   "cell_type": "code",
   "execution_count": null,
   "metadata": {
    "id": "a03fvvKYIA0T",
    "outputId": "9fc4094c-8a69-474c-af3c-e08ba52fba19",
    "scrolled": true
   },
   "outputs": [],
   "source": [
    "def transpose(A):\n",
    "    m, n = len(A), len(A[0]) # The size of matrix\n",
    "    return [[A[i][j] for i in range(m)] for j in range(n)]\n",
    "\n",
    "A = [[1, 2, 3],\n",
    "     [4, 5, 6]]\n",
    "\n",
    "print('Trước khi chuyển vị')\n",
    "myprint(A)\n",
    "\n",
    "print('\\nSau khi chuyển vị')\n",
    "myprint(transpose(A))"
   ]
  },
  {
   "cell_type": "markdown",
   "metadata": {
    "id": "zh1oEvG4IA0U"
   },
   "source": [
    "#### NumPy"
   ]
  },
  {
   "cell_type": "code",
   "execution_count": null,
   "metadata": {
    "id": "u5aew4yCIA0U",
    "outputId": "b03cfdca-d0ad-48dd-e39c-b13e7a5ba721",
    "scrolled": true
   },
   "outputs": [],
   "source": [
    "A = np.array(A)\n",
    "\n",
    "print('Trước khi chuyển vị')\n",
    "print(A)\n",
    "\n",
    "print('\\nSau khi chuyển vị')\n",
    "print(A.T)"
   ]
  },
  {
   "cell_type": "markdown",
   "metadata": {
    "id": "n_1X3Pn0IA0U"
   },
   "source": [
    "#### SymPy"
   ]
  },
  {
   "cell_type": "code",
   "execution_count": null,
   "metadata": {
    "id": "o4Wx1gC8IA0U",
    "outputId": "aea31617-4bc4-490a-e3e7-96f12171f0a5",
    "scrolled": false
   },
   "outputs": [],
   "source": [
    "A = Matrix([[sympy.symbols(f\"a_{i}{j}\") for j in range(1, 4)] for i in range(1, 3)])\n",
    "A"
   ]
  },
  {
   "cell_type": "code",
   "execution_count": null,
   "metadata": {
    "id": "8ZElanJUIA0U",
    "outputId": "478d4e27-1925-4242-e1c1-222afb3dfcad"
   },
   "outputs": [],
   "source": [
    "A.T"
   ]
  },
  {
   "cell_type": "markdown",
   "metadata": {
    "id": "iXIuR9-GIA0U"
   },
   "source": [
    "### Nhân ma trận với vector"
   ]
  },
  {
   "cell_type": "markdown",
   "metadata": {
    "id": "0WSR37RcIA0U"
   },
   "source": [
    "Cho ma trận $A \\in \\mathbb{R}^{m \\times n}$ và vector cột $\\boldsymbol{v} \\in \\mathbb{R}^{n \\times 1}$, phép nhân\n",
    "$$\n",
    "A\\boldsymbol{v} =\n",
    "\\begin{bmatrix}\n",
    "  a_{11} & a_{12} & \\cdots & a_{1n} \\\\\n",
    "  a_{21} & a_{22} & \\cdots & a_{2n} \\\\\n",
    "  \\vdots  & \\vdots  & \\ddots & \\vdots  \\\\\n",
    "  a_{m1} & a_{m2} & \\cdots & a_{mn}\n",
    "\\end{bmatrix}\n",
    "\\begin{bmatrix}\n",
    "  v_1 \\\\ v_2 \\\\ \\vdots \\\\ v_n\n",
    "\\end{bmatrix} =\n",
    "\\begin{bmatrix}\n",
    "  a_{11}v_1 + a_{12}v_2 + ... + a_{1n}v_n \\\\\n",
    "  a_{21}v_1 + a_{22}v_2 + ... + a_{2n}v_n \\\\ \\vdots \\\\\n",
    "  a_{m1}v_1 + a_{m2}v_2 + ... + a_{mn}v_n \\\\\n",
    "\\end{bmatrix}\n",
    "$$\n",
    "có thể được định nghĩa như là tích vô hướng các vector dòng của $A$ với $\\boldsymbol{v}$\n",
    "$$\n",
    "A\\boldsymbol{v} =\n",
    "\\begin{bmatrix}\n",
    "  \\langle \\boldsymbol{a}_{1,}, \\boldsymbol{v} \\rangle \\\\\n",
    "  \\langle \\boldsymbol{a}_{2,}, \\boldsymbol{v} \\rangle \\\\ \\vdots \\\\\n",
    "  \\langle \\boldsymbol{a}_{m,}, \\boldsymbol{v} \\rangle\n",
    "\\end{bmatrix},\n",
    "$$\n",
    "hay có thể được định nghĩa như là tổ hợp tuyến tính các vector cột của $A$ với các hệ số trong $\\boldsymbol{v}$\n",
    "$$\n",
    "A\\boldsymbol{v} =\n",
    "v_1\\begin{bmatrix}\n",
    "  a_{11} \\\\ a_{21} \\\\ \\vdots \\\\ a_{m1}\n",
    "\\end{bmatrix} +\n",
    "v_2\\begin{bmatrix}\n",
    "  a_{12} \\\\ a_{22} \\\\ \\vdots \\\\ a_{m2}\n",
    "\\end{bmatrix} + ... +\n",
    "v_n\\begin{bmatrix}\n",
    "  a_{1n} \\\\ a_{2n} \\\\ \\vdots \\\\ a_{mn}\n",
    "\\end{bmatrix} =\n",
    "v_1\\boldsymbol{a}_{,1} + v_2\\boldsymbol{a}_{,2} + ... + v_n\\boldsymbol{a}_{,n}.\n",
    "$$"
   ]
  },
  {
   "cell_type": "markdown",
   "metadata": {
    "id": "uSp473rDIA0V"
   },
   "source": [
    "#### List"
   ]
  },
  {
   "cell_type": "code",
   "execution_count": null,
   "metadata": {
    "id": "ZHGIjS8gIA0V"
   },
   "outputs": [],
   "source": [
    "# The inner product of a row vector and a vector v\n",
    "def mul_matrix_vector(A, v):\n",
    "    return [calc_inner_product(ai, v) for ai in A]\n",
    "\n",
    "# The linear combination of a column vector and a vector v\n",
    "def mul_matrix_vector2(A, v):\n",
    "    w = [0 for _ in range(len(v))]\n",
    "    for j in range(len(v)):\n",
    "        w = add_vector(w, mul_scalar_vector(v[j], [ai[j] for ai in A]))\n",
    "    return w"
   ]
  },
  {
   "cell_type": "code",
   "execution_count": null,
   "metadata": {
    "id": "gUc4_wS6IA0V",
    "outputId": "b9604e44-3c89-45b4-dc18-5a8035c107b1"
   },
   "outputs": [],
   "source": [
    "A = [[1, 2, 3], [4, 5, 6]]\n",
    "v = [1, 1, 1]\n",
    "\n",
    "print('Matrix A: ')\n",
    "myprint(A)\n",
    "print('Vector v: ')\n",
    "myprint(v)\n",
    "\n",
    "print('Nhân ma trận (góc nhìn tích vô hướng các vector dòng với v)')\n",
    "print(mul_matrix_vector(A, v))\n",
    "\n",
    "print('Nhân ma trận (góc nhìn tổ hợp tuyến tính các vector với các hệ số trong v)')\n",
    "print(mul_matrix_vector2(A, v))"
   ]
  },
  {
   "cell_type": "markdown",
   "metadata": {
    "id": "TMaJQcR_IA0V"
   },
   "source": [
    "#### NumPy"
   ]
  },
  {
   "cell_type": "code",
   "execution_count": null,
   "metadata": {
    "id": "a2nCos_3IA0V",
    "outputId": "645c7acc-63eb-44e3-8f5a-772bf1d92313",
    "scrolled": true
   },
   "outputs": [],
   "source": [
    "A = np.array(A)\n",
    "v = np.array(v)\n",
    "\n",
    "print('Matrix A: ')\n",
    "print(A)\n",
    "print('Vector v: ')\n",
    "print(v)\n",
    "\n",
    "print('Av: ', np.matmul(A, v)) # NOTE: NOT A * v"
   ]
  },
  {
   "cell_type": "markdown",
   "metadata": {
    "id": "5JmHm6yCIA0V"
   },
   "source": [
    "#### SymPy"
   ]
  },
  {
   "cell_type": "code",
   "execution_count": null,
   "metadata": {
    "id": "xRQJK5IUIA0V",
    "outputId": "5281387a-daec-4d8d-f315-b8b97b0a59e5",
    "scrolled": true
   },
   "outputs": [],
   "source": [
    "A = Matrix(A)\n",
    "v = Matrix(sympy.symbols(\"alpha_1 alpha_2 alpha_3\"))\n",
    "\n",
    "A * v"
   ]
  },
  {
   "cell_type": "markdown",
   "metadata": {
    "id": "OuetdAqEIA0W"
   },
   "source": [
    "### Biến đổi sơ cấp trên dòng"
   ]
  },
  {
   "cell_type": "markdown",
   "metadata": {
    "id": "zfZ51aXCIA0W"
   },
   "source": [
    "3 loại biến đổi sau trên một ma trận được gọi là **phép biến đổi sơ cấp trên dòng** (elementary row operation):\n",
    "\n",
    "- **Loại 1.** (Row switching) Đổi hai dòng cho nhau,\n",
    "\n",
    "- **Loại 2.** (Row multiplication) Nhân một dòng với một số khác 0,\n",
    "\n",
    "- **Loại 3.** (Row addition) Cộng vào một dòng một bội số của dòng khác.\n",
    "\n",
    "\n",
    "Cho $A, B \\in \\mathbb{R}^{m \\times n}$, ta nói $A, B$ **tương đương dòng** (row equivalent) với nhau nếu $B$ có được từ $A$ (hay ngược lại, $A$ có được từ $B$) qua hữu hạn phép biến đổi sơ cấp trên dòng.\n",
    "\n",
    "\n",
    "Một ma trận được nói là có **dạng bậc thang theo dòng** (row echelon form) nếu:\n",
    "\n",
    "- Các dòng khác $\\boldsymbol{0}$ luôn nằm trên các dòng $\\boldsymbol{0}$ (nếu có),\n",
    "\n",
    "- Trên 2 dòng khác $\\boldsymbol{0}$, hệ số khác 0 đầu tiên của dòng dưới luôn nằm bên phải cột chứa hệ số khác 0 đầu tiên của dòng trên."
   ]
  },
  {
   "cell_type": "markdown",
   "metadata": {
    "id": "cFMvvoQ1IA0W"
   },
   "source": [
    "#### List"
   ]
  },
  {
   "cell_type": "code",
   "execution_count": null,
   "metadata": {
    "id": "ItbITq6IIA0W"
   },
   "outputs": [],
   "source": [
    "def row_switch(A, i, k):\n",
    "    \"di <-> dk\"\n",
    "    A[i], A[k] = A[k], A[i]\n",
    "\n",
    "def row_mul(A, i, alpha):\n",
    "    \"di = anpha*di\"\n",
    "    A[i] = mul_scalar_vector(alpha, A[i])\n",
    "\n",
    "def row_add(A, i, k, alpha):\n",
    "    \"di = di + anpha*dk\"\n",
    "    A[i] = add_vector(A[i], mul_scalar_vector(alpha, A[k]))\n",
    "\n",
    "def is_echelon(A): # Check if a matrix is echelon\n",
    "    pass # TODO"
   ]
  },
  {
   "cell_type": "code",
   "execution_count": null,
   "metadata": {
    "id": "tU_PhjFIIA0W",
    "outputId": "40ecaf96-96d7-4b42-ed43-b0634184bdf8",
    "scrolled": true
   },
   "outputs": [],
   "source": [
    "A = [[1, 2, 3],\n",
    "     [4, 5, 6]]\n",
    "\n",
    "print('Ma trận ban đầu')\n",
    "myprint(A)\n",
    "\n",
    "print('\\nNhân dòng 0 với 4')\n",
    "row_mul(A, 0, 4)     # d0 = 4d0\n",
    "myprint(A)\n",
    "\n",
    "print('\\nĐổi chỗ 2 dòng 0 và 1')\n",
    "row_switch(A, 0, 1)  # d0 <-> d1\n",
    "myprint(A)\n",
    "\n",
    "print('\\nCập nhật dòng 1 bằng dòng 1 trừ dòng 0')\n",
    "row_add(A, 1, 0, -1) # d1 = d1 - d0\n",
    "myprint(A)"
   ]
  },
  {
   "cell_type": "markdown",
   "metadata": {
    "id": "y14ARFiQIA0W"
   },
   "source": [
    "#### SymPy"
   ]
  },
  {
   "cell_type": "code",
   "execution_count": null,
   "metadata": {
    "id": "on6z0xpqIA0W",
    "outputId": "8ce09acc-750f-464e-b3e1-c5bd338a523a"
   },
   "outputs": [],
   "source": [
    "A = Matrix(A)\n",
    "\n",
    "print(A.is_echelon)"
   ]
  },
  {
   "cell_type": "code",
   "execution_count": null,
   "metadata": {
    "id": "7VpQnlFJIA0X",
    "outputId": "6cde5a6f-7442-4593-8e57-7b07985aae23"
   },
   "outputs": [],
   "source": [
    "A = A.elementary_row_op(\"n->n+km\", row=1, row2=0, k=1)     # d1 = d1 + d0\n",
    "A = A.elementary_row_op(\"n<->m\", row1=1, row2=0)           # d1 <-> d0\n",
    "A = A.elementary_row_op(\"n->kn\", row=0, k=Fraction(\"1/4\")) # d0 = d0/4\n",
    "\n",
    "A"
   ]
  },
  {
   "cell_type": "markdown",
   "metadata": {
    "id": "1PBLWOZNIA0X"
   },
   "source": [
    "## Hệ PTTT và Phép khử Gauss <a class=\"anchor\" id=\"c5\"></a>"
   ]
  },
  {
   "cell_type": "markdown",
   "metadata": {
    "id": "3qRwfc4mIA0X"
   },
   "source": [
    "### Các khái niệm cơ bản"
   ]
  },
  {
   "cell_type": "markdown",
   "metadata": {
    "id": "r4ouqzOyIA0X"
   },
   "source": [
    "**Hệ PTTT** (system of linear equations, linear system) gồm $m$ phương trình theo $n$ ẩn số $x_1, x_2, ..., x_n$ là hệ có dạng\n",
    "$$\n",
    "\\begin{matrix}\n",
    "  a_{11}x_1 + a_{12}x_2 + ... + a_{1n}x_n = b_1 \\\\\n",
    "  a_{21}x_1 + a_{22}x_2 + ... + a_{2n}x_n = b_2 \\\\\n",
    "  \\vdots \\\\\n",
    "  a_{m1}x_1 + a_{m2}x_2 + ... + a_{mn}x_n = b_m \\\\\n",
    "\\end{matrix}.\n",
    "$$"
   ]
  },
  {
   "cell_type": "markdown",
   "metadata": {
    "id": "vttXAkTTIA0X"
   },
   "source": [
    "Hệ PTTT trên có thể được viết lại dưới dạng ma trận\n",
    "$$ A\\boldsymbol{x} = \\boldsymbol{b} $$\n",
    "với $A \\in \\mathbb{R}^{m \\times n}$ là **ma trận các hệ số** (coefficient matrix)\n",
    "$$\n",
    "A =\n",
    "\\begin{bmatrix}\n",
    "  a_{11} & a_{12} & \\cdots & a_{1n} \\\\\n",
    "  a_{21} & a_{22} & \\cdots & a_{2n} \\\\\n",
    "  \\vdots  & \\vdots  & \\ddots & \\vdots  \\\\\n",
    "  a_{m1} & a_{m2} & \\cdots & a_{mn}\n",
    "\\end{bmatrix},\n",
    "$$\n",
    "$\\boldsymbol{x}$ là vector cột các **ẩn** (unknown) và $\\boldsymbol{b}$ là vector cột các **hệ số vế phải** (right-hand side)\n",
    "$$\n",
    "\\boldsymbol{x} =\n",
    "\\begin{bmatrix}\n",
    "  x_{1} \\\\ x_{2} \\\\ \\vdots \\\\ x_{n}\n",
    "\\end{bmatrix},\n",
    "\\boldsymbol{b} =\n",
    "\\begin{bmatrix}\n",
    "  b_{1} \\\\ b_{2} \\\\ \\vdots \\\\ b_{n}\n",
    "\\end{bmatrix}.\n",
    "$$"
   ]
  },
  {
   "cell_type": "markdown",
   "metadata": {
    "id": "PAyiM_nIIA0X"
   },
   "source": [
    "Trường hợp $\\boldsymbol{b} = \\boldsymbol{0}$, hệ thường được gọi là hệ **thuần nhất** (homogeneous)."
   ]
  },
  {
   "cell_type": "markdown",
   "metadata": {
    "id": "YDqqzIudIA0X"
   },
   "source": [
    "Với $A \\in \\mathbb{R}^{m \\times n}, \\boldsymbol{b} \\in \\mathbb{R}^{m \\times 1}$ cho trước, ta nói $\\boldsymbol{s} \\in \\mathbb{R}^{m \\times 1}$ là vector **nghiệm** (solution) của hệ $A\\boldsymbol{x} = \\boldsymbol{b}$ nếu $A\\boldsymbol{s} = \\boldsymbol{b}$."
   ]
  },
  {
   "cell_type": "code",
   "execution_count": null,
   "metadata": {
    "id": "bsFSSPa9IA0Y",
    "outputId": "568f55eb-16bc-4958-8451-f8124dc4c36a"
   },
   "outputs": [],
   "source": [
    "A = [[1, -1],\n",
    "     [2, 1]]\n",
    "b = [1, 6]\n",
    "\n",
    "x = to_fraction([\"7/3\", \"4/3\"])\n",
    "\n",
    "Ax = mul_matrix_vector(A, x)\n",
    "myprint(Ax)\n",
    "\n",
    "print('Ax == b: ', equal_vector(Ax, b))"
   ]
  },
  {
   "cell_type": "markdown",
   "metadata": {
    "id": "GEb-50Z1IA0Y"
   },
   "source": [
    "### Giải hệ PTTT"
   ]
  },
  {
   "cell_type": "markdown",
   "metadata": {
    "id": "k1xmx1nOIA0Y"
   },
   "source": [
    "Hệ PTTT $A\\boldsymbol{x} = \\boldsymbol{b}$ thường được giải bằng các bước:\n",
    "\n",
    "> **Bước 1.** Lập **ma trận bổ sung** (augmented matrix) bằng cách ghép cột $\\boldsymbol{b}$ sau ma trận $A$: $\\bar{A} = \\left[ A | \\boldsymbol{b} \\right]$.\n",
    "\n",
    "> **Bước 2.** Dùng các phép biến đổi sơ cấp trên dòng để biến đổi $\\bar{A}$ thành ma trận tương đương dòng có dạng bậc thang $R$.\n",
    "\n",
    "> **Bước 3.** Giải $R$ bằng **phép thế ngược** (back-substitution) để có nghiệm."
   ]
  },
  {
   "cell_type": "markdown",
   "metadata": {
    "id": "sHe3Fd_SIA0Y"
   },
   "source": [
    "***Mệnh đề.*** Nếu $\\bar{A}, \\bar{B}$ tương đương dòng thì các hệ PTTT tương ứng với ma trận bổ sung $\\bar{A}, \\bar{B}$ có cùng tập nghiệm."
   ]
  },
  {
   "cell_type": "markdown",
   "metadata": {
    "id": "Nni8eY3dIA0a"
   },
   "source": [
    "#### Bước 1: Lập ma trận bổ sung"
   ]
  },
  {
   "cell_type": "code",
   "execution_count": null,
   "metadata": {
    "id": "i_Zlx4Q2IA0a",
    "outputId": "05d2625e-cb8c-4a2e-c9e8-cfdef226943c"
   },
   "outputs": [],
   "source": [
    "def augmented_matrix(A, b):\n",
    "    \"Tạo ma trận bổ sung [A|b]\"\n",
    "    return [ai + [bi] for ai, bi in zip(A, b)]\n",
    "\n",
    "A_bar = augmented_matrix(A, b)\n",
    "\n",
    "myprint(A_bar)"
   ]
  },
  {
   "cell_type": "markdown",
   "metadata": {
    "id": "y9GREv8jIA0a"
   },
   "source": [
    "#### Bước 2: Tạo ma trận bậc thang - Sử dụng phép khử Gauss"
   ]
  },
  {
   "cell_type": "markdown",
   "metadata": {
    "id": "xAyv8y2JIA0a"
   },
   "source": [
    "**Khử Gauss** (Gaussian elimination) là một cách biến đổi tương đương dòng đưa ma trận về dạng bậc thang. Thuật giải gồm các bước:\n",
    "\n",
    "> **Bước 1.** Xác định cột trái nhất không chứa toàn số 0.\n",
    "\n",
    "> **Bước 2.** Đổi chỗ hai dòng, nếu cần thiết, để đưa số hạng khác 0 nào đó ở dưới về đầu cột nhận được ở Bước 1.\n",
    "(*Đơn giản nhất, có thể chọn dòng đầu tiên có số hạng khác 0. Phức tạp hơn, chiến lược \"partial pivoting\" chọn dòng có số hạng có trị tuyệt đối lớn nhất.*)\n",
    "\n",
    "> **Bước 3.** Với số hạng đầu cột nhận được từ Bước 2 là $a \\neq 0$, nhân dòng chứa nó với $\\frac{1}{a}$ để có **số dẫn đầu** 1 (leading 1).\n",
    "(*Bước này tùy chọn*.)\n",
    "\n",
    "> **Bước 4.** Cộng một bội số thích hợp của dòng đầu cho từng dòng dưới để biến các số hạng bên dưới số dẫn đầu thành 0.\n",
    "\n",
    "> **Bước 5.** Che dòng đầu đã làm xong. Lặp lại các bước cho đến khi được ma trận bậc thang."
   ]
  },
  {
   "cell_type": "code",
   "execution_count": null,
   "metadata": {
    "id": "tmyIrnYOIA0b"
   },
   "outputs": [],
   "source": [
    "def Gauss_elimination(A, leading1=True):\n",
    "    R = A.copy()\n",
    "    m, n = len(R), len(R[0]) # The size of matrix\n",
    "\n",
    "    row = col = 0\n",
    "\n",
    "    while row < m:\n",
    "        # Step 1\n",
    "        while col < n and all(is_zero(R[i][col]) for i in range(row, m)):\n",
    "            col += 1\n",
    "        if col == n: # it's echelon\n",
    "            break\n",
    "\n",
    "        # Step 2 (select the first row that contains non-zero coefficient)\n",
    "        pivot_row = row + [not is_zero(R[i][col]) for i in range(row, m)].index(True)\n",
    "        row_switch(R, row, pivot_row)\n",
    "\n",
    "        # Step 3 (leading 1 option)\n",
    "        if leading1:\n",
    "            row_mul(R, row, 1/R[row][col])\n",
    "\n",
    "        # Step 4\n",
    "        for i in range(row + 1, m):\n",
    "            multiplier = R[i][col]/R[row][col]\n",
    "            row_add(R, i, row, -multiplier) # di = di - drow * multiplier\n",
    "\n",
    "        # Step 5\n",
    "        row += 1\n",
    "\n",
    "    return R"
   ]
  },
  {
   "cell_type": "code",
   "execution_count": null,
   "metadata": {
    "id": "CqkIf08lIA0b",
    "outputId": "441f63d9-901a-47b6-88fb-348d1ac69e0f"
   },
   "outputs": [],
   "source": [
    "A = [[1, 3, -2,  0, 2,  0, 0],\n",
    "     [2, 6, -5, -2, 4, -3, 0],\n",
    "     [0, 0,  5, 10, 0, 15, 0],\n",
    "     [2, 6,  0,  8, 4, 18, 0]]\n",
    "\n",
    "print('Ma trận trước khi biến đổi bậc thang')\n",
    "myprint(A)\n",
    "\n",
    "print('\\nSau khi biến đổi bậc thang, không sử dụng leading 1')\n",
    "myprint(Gauss_elimination(to_fraction(A), leading1=False))\n",
    "\n",
    "print('\\nSau khi biến đổi bậc thang, sử dụng leading 1')\n",
    "myprint(Gauss_elimination(to_fraction(A)))"
   ]
  },
  {
   "cell_type": "markdown",
   "metadata": {
    "id": "tTfCCO9rIA0b"
   },
   "source": [
    "#### Bước 3: Phép thế ngược"
   ]
  },
  {
   "cell_type": "code",
   "execution_count": null,
   "metadata": {
    "id": "rYf_i5cAIA0b"
   },
   "outputs": [],
   "source": [
    "def back_substitution(R):\n",
    "    \"R là ma trận bậc thang của ma trận bổ sung của hệ phương trình Ax = b\"\n",
    "    m, n = len(R), len(R[0]) # The size of matrix R\n",
    "\n",
    "    # Solution vector\n",
    "    sol = [None for _ in range(n - 1)]\n",
    "\n",
    "    # Find the first row that contains non-zero values FROM THE BOTTOM\n",
    "    row = m - 1\n",
    "    while row >= 0 and all(is_zero(R[row][j]) for j in range(n)):\n",
    "        row -= 1\n",
    "\n",
    "    if row >= 0 and [not is_zero(R[row][j]) for j in range(n)].index(True) == n - 1:\n",
    "        return None # Have no solution\n",
    "\n",
    "    last_pcol = n - 1\n",
    "    while row >= 0:\n",
    "        pcol = [not is_zero(R[row][j]) for j in range(n)].index(True)\n",
    "        for i in range(pcol, last_pcol): # Free variables\n",
    "            sol[i] = sympy.symbols(f\"x{i + 1}\")\n",
    "        sol[pcol] = (R[row][n - 1] - sum(R[row][j]*sol[j] for j in range(pcol + 1, n - 1)))/R[row][pcol]\n",
    "        last_pcol = pcol\n",
    "        row -= 1\n",
    "\n",
    "    # Add free variables from 0 to last_pcol - 1\n",
    "    for i in range(0, last_pcol):\n",
    "        sol[i] = sympy.symbols(f\"x{i + 1}\")\n",
    "\n",
    "    return sol"
   ]
  },
  {
   "cell_type": "code",
   "execution_count": null,
   "metadata": {
    "id": "D4Cm9ur1IA0b",
    "outputId": "b9d992be-5448-44e9-efb0-c67404c56fb6"
   },
   "outputs": [],
   "source": [
    "myprint(back_substitution(Gauss_elimination(to_fraction(A))), sep=\", \")"
   ]
  },
  {
   "cell_type": "markdown",
   "metadata": {
    "id": "wgSUBa-zIA0b"
   },
   "source": [
    "### Thư viện hỗ trợ"
   ]
  },
  {
   "cell_type": "markdown",
   "metadata": {
    "id": "RT6hZSlFIA0c"
   },
   "source": [
    "* **NumPy**, **SciPy**: các hàm [`numpy.linalg.solve`](https://numpy.org/doc/stable/reference/generated/numpy.linalg.solve.html) và [`scipy.linalg.solve`](https://docs.scipy.org/doc/scipy/reference/generated/scipy.linalg.solve.html) có thể được dùng để giải hệ PTTT trường hợp hệ vuông ($m = n$) và có nghiệm duy nhất."
   ]
  },
  {
   "cell_type": "markdown",
   "metadata": {
    "id": "8MdgcOduIA0c"
   },
   "source": [
    "* **SymPy**:\n",
    "  - Phương thức [`echelon_form`](https://docs.sympy.org/latest/modules/matrices/matrices.html#sympy.matrices.matrices.MatrixReductions.echelon_form) tìm dạng bậc thang.\n",
    "\n",
    "  - Phương thức [`rref`](https://docs.sympy.org/latest/modules/matrices/matrices.html#sympy.matrices.matrices.MatrixReductions.rref) tìm **dạng bậc thang rút gọn** (reduced row-echelon form, Gauss-Jordan elimination).\n",
    "\n",
    "  - Phương thức [`sympy.linsolve`](https://docs.sympy.org/latest/modules/solvers/solveset.html#linsolve) giải hệ PTTT."
   ]
  },
  {
   "cell_type": "markdown",
   "metadata": {
    "id": "cBzX2aHaIA0c"
   },
   "source": [
    "### Ví dụ"
   ]
  },
  {
   "cell_type": "markdown",
   "metadata": {
    "id": "sKLW0768IA0c"
   },
   "source": [
    "#### Ví dụ 1"
   ]
  },
  {
   "cell_type": "markdown",
   "metadata": {
    "id": "toNdMr27IA0c"
   },
   "source": [
    "Giải hệ PTTT\n",
    "$$\n",
    "\\begin{matrix}\n",
    "   x & + &  y & + & 2z & = & 9 \\\\\n",
    "  2x & + & 4y & - & 3z & = & 1 \\\\\n",
    "  3x & + & 6y & - & 5z & = & 0 \\\\\n",
    "\\end{matrix}.\n",
    "$$"
   ]
  },
  {
   "cell_type": "markdown",
   "metadata": {
    "id": "mK2MuzifIA0c"
   },
   "source": [
    "Hệ được viết lại dưới dạng phương trình ma trận $A\\boldsymbol{x} = \\boldsymbol{b}$, với\n",
    "$$\n",
    "A =\n",
    "\\begin{bmatrix}\n",
    "1 & 1 &  2 \\\\\n",
    "2 & 4 & -3 \\\\\n",
    "3 & 6 & -5 \\\\\n",
    "\\end{bmatrix},\n",
    "\\boldsymbol{x} =\n",
    "\\begin{bmatrix} x \\\\ y \\\\ z \\end{bmatrix},\n",
    "\\boldsymbol{b} =\n",
    "\\begin{bmatrix} 9 \\\\ 1 \\\\ 0 \\end{bmatrix}.\n",
    "$$"
   ]
  },
  {
   "cell_type": "markdown",
   "metadata": {
    "id": "LKoiL6eoIA0c"
   },
   "source": [
    "Lập ma trận bổ sung\n",
    "$$\n",
    "\\bar{A} = \\left[ A | \\boldsymbol{b} \\right] =\n",
    "\\begin{bmatrix}\n",
    "1 & 1 &  2 & 9 \\\\\n",
    "2 & 4 & -3 & 1\\\\\n",
    "3 & 6 & -5 & 0\\\\\n",
    "\\end{bmatrix}.\n",
    "$$"
   ]
  },
  {
   "cell_type": "markdown",
   "metadata": {
    "id": "aCbtHMCcIA0c"
   },
   "source": [
    "Đưa $\\bar{A}$ về dạng bậc thang (với số dẫn đầu 1)"
   ]
  },
  {
   "cell_type": "code",
   "execution_count": null,
   "metadata": {
    "id": "lh8lMU4-IA0c",
    "outputId": "0bb18270-94fc-49ac-977f-13f761ea7e65"
   },
   "outputs": [],
   "source": [
    "A_bar = [[1, 1,  2, 9],\n",
    "         [2, 4, -3, 1],\n",
    "         [3, 6, -5, 0]]\n",
    "\n",
    "R = Gauss_elimination(to_fraction(A_bar))\n",
    "\n",
    "myprint(R)"
   ]
  },
  {
   "cell_type": "markdown",
   "metadata": {
    "id": "FESezKHTIA0d"
   },
   "source": [
    "Như vậy, ta có $\\bar{A}$ tương đương dòng với ma trận bậc thang\n",
    "$$\n",
    "R =\n",
    "\\begin{bmatrix}\n",
    "\\boxed{1} & 1 & 2 & 9 \\\\\n",
    "0 & \\boxed{1} & -\\frac{7}{2} & -\\frac{17}{2} \\\\\n",
    "0 & 0 & \\boxed{1} & 3 \\\\\n",
    "\\end{bmatrix}.\n",
    "$$"
   ]
  },
  {
   "cell_type": "markdown",
   "metadata": {
    "id": "zzLr2RNNIA0d"
   },
   "source": [
    "Ta thấy hệ này có nghiệm duy nhất. Giải từ dưới lên bằng phép thế ngược"
   ]
  },
  {
   "cell_type": "code",
   "execution_count": null,
   "metadata": {
    "id": "rDfUrEXOIA0d",
    "outputId": "8d0e8ffe-9c14-4c73-d349-7d82c5c92ad7"
   },
   "outputs": [],
   "source": [
    "sol = back_substitution(R)\n",
    "\n",
    "if not sol:\n",
    "    print(\"Hệ vô nghiệm\")\n",
    "else:\n",
    "    myprint(sol, sep=\", \")"
   ]
  },
  {
   "cell_type": "markdown",
   "metadata": {
    "id": "6d51G9O7IA0d"
   },
   "source": [
    "Như vậy hệ có nghiệm\n",
    "$$\n",
    "\\boldsymbol{x} =\n",
    "\\begin{bmatrix}\n",
    "x \\\\ y \\\\ z\n",
    "\\end{bmatrix} =\n",
    "\\begin{bmatrix}\n",
    "1 \\\\ 2 \\\\ 3\n",
    "\\end{bmatrix}\n",
    "$$"
   ]
  },
  {
   "cell_type": "code",
   "execution_count": null,
   "metadata": {
    "id": "XTky-8GWIA0d",
    "outputId": "149f22a6-3bbe-4a26-ab2e-3e858d665707"
   },
   "outputs": [],
   "source": [
    "A_bar = np.array(A_bar)\n",
    "\n",
    "print(np.linalg.solve(A_bar[:, :-1], A_bar[:, -1]))"
   ]
  },
  {
   "cell_type": "markdown",
   "metadata": {
    "id": "g9FxAiY8IA0d"
   },
   "source": [
    "#### Ví dụ 2"
   ]
  },
  {
   "cell_type": "markdown",
   "metadata": {
    "id": "--eEAT5SIA0d"
   },
   "source": [
    "Giải hệ PTTT\n",
    "$$\n",
    "\\begin{matrix}\n",
    "       &   &      &   & -2x_3 &   &      & + &  7x_5 & = & 12 \\\\\n",
    "  2x_1 & + & 4x_2 & - & 10x_3 & + & 6x_4 & + & 12x_5 & = & 28 \\\\\n",
    "  2x_1 & + & 4x_2 & - &  5x_3 & + & 6x_4 & - &  5x_5 & = & -1 \\\\\n",
    "\\end{matrix}.\n",
    "$$"
   ]
  },
  {
   "cell_type": "markdown",
   "metadata": {
    "id": "FI4hPQk8IA0d"
   },
   "source": [
    "Lập ma trận bổ sung\n",
    "$$\n",
    "\\bar{A} = \\left[ A | \\boldsymbol{b} \\right] =\n",
    "\\begin{bmatrix}\n",
    "0 & 0 &  -2 & 0 &  7 & 12 \\\\\n",
    "2 & 4 & -10 & 6 & 12 & 28 \\\\\n",
    "2 & 4 &  -5 & 6 & -5 &  -1 \\\\\n",
    "\\end{bmatrix}.\n",
    "$$"
   ]
  },
  {
   "cell_type": "markdown",
   "metadata": {
    "id": "xBUQDhutIA0e"
   },
   "source": [
    "Đưa $\\bar{A}$ về dạng bậc thang"
   ]
  },
  {
   "cell_type": "code",
   "execution_count": null,
   "metadata": {
    "id": "CtPdEUV7IA0e",
    "outputId": "0729c67c-7bdb-40a8-a35a-2986b28d173b"
   },
   "outputs": [],
   "source": [
    "A_bar = [[0, 0,  -2, 0,  7, 12],\n",
    "         [2, 4, -10, 6, 12, 28],\n",
    "         [2, 4,  -5, 6, -5, -1]]\n",
    "\n",
    "R = Gauss_elimination(to_fraction(A_bar), leading1=False)\n",
    "myprint(R)\n",
    "\n",
    "myprint(Gauss_elimination(to_fraction(A_bar)))"
   ]
  },
  {
   "cell_type": "code",
   "execution_count": null,
   "metadata": {
    "id": "FqDG4ElaIA0e",
    "outputId": "8aab39e9-4697-429d-be41-f2f5a795029d"
   },
   "outputs": [],
   "source": [
    "Matrix(A_bar).echelon_form()"
   ]
  },
  {
   "cell_type": "markdown",
   "metadata": {
    "id": "hjDcP2XgIA0e"
   },
   "source": [
    "Như vậy, ta có $\\bar{A}$ tương đương dòng với ma trận bậc thang\n",
    "$$\n",
    "R =\n",
    "\\begin{bmatrix}\n",
    "\\boxed{1} & 2 & -5 & 3 &  6 & 14 \\\\\n",
    "0 & 0 & \\boxed{1} & 0 & -\\frac{7}{2} & -6 \\\\\n",
    "0 & 0 &  0 & 0 & \\boxed{1} & 2 \\\\\n",
    "\\end{bmatrix}.\n",
    "$$"
   ]
  },
  {
   "cell_type": "markdown",
   "metadata": {
    "id": "FbLillT4IA0e"
   },
   "source": [
    "Ta thấy hệ này có vô số nghiệm. Giải từ dưới lên bằng phép thế ngược cho các ẩn cơ sở $x_1, x_3, x_5$ và các ẩn tự do $x_2, x_4$"
   ]
  },
  {
   "cell_type": "code",
   "execution_count": null,
   "metadata": {
    "id": "O6QyvxmbIA0e",
    "outputId": "5c150366-3a21-4377-a6a0-dc115a4a62ec"
   },
   "outputs": [],
   "source": [
    "sol = back_substitution(R)\n",
    "\n",
    "if not sol:\n",
    "    print(\"Hệ vô nghiệm\")\n",
    "else:\n",
    "    myprint(sol, sep=\", \")"
   ]
  },
  {
   "cell_type": "markdown",
   "metadata": {
    "id": "1O5w2_pwIA0e"
   },
   "source": [
    "Như vậy, hệ có nghiệm tổng quát\n",
    "$$\n",
    "\\boldsymbol{x} =\n",
    "\\begin{bmatrix}\n",
    "x_1 \\\\ x_2 \\\\ x_3 \\\\ x_4 \\\\ x_5 \\\\\n",
    "\\end{bmatrix} =\n",
    "\\begin{bmatrix}\n",
    "7 -2x_2 - 3x_4 \\\\ x_2 \\\\ 1 \\\\ x_4 \\\\ 2 \\\\\n",
    "\\end{bmatrix} =\n",
    "\\begin{bmatrix}\n",
    "7 \\\\ 0 \\\\ 1 \\\\ 0 \\\\ 2 \\\\\n",
    "\\end{bmatrix} +\n",
    "x_2 \\begin{bmatrix}\n",
    "-2 \\\\ 1 \\\\ 0 \\\\ 0 \\\\ 0 \\\\\n",
    "\\end{bmatrix} +\n",
    "x_4 \\begin{bmatrix}\n",
    "-3 \\\\ 0 \\\\ 0 \\\\ 1 \\\\ 0 \\\\\n",
    "\\end{bmatrix},\n",
    "x_2, x_4 \\in \\mathbb{R}.\n",
    "$$"
   ]
  },
  {
   "cell_type": "code",
   "execution_count": null,
   "metadata": {
    "id": "0Fz7m72lIA0f",
    "outputId": "9ae090bc-76ea-40e0-f62f-e5833ff85693"
   },
   "outputs": [],
   "source": [
    "sympy.linsolve(Matrix(A_bar), [sympy.symbols(f\"x_{i}\") for i in range(1, 6)])"
   ]
  },
  {
   "cell_type": "markdown",
   "metadata": {
    "id": "4IT2WOoMIA0f"
   },
   "source": [
    "## Không gian con, cơ sở và số chiều <a class=\"anchor\" id=\"c6\"></a>"
   ]
  },
  {
   "cell_type": "markdown",
   "metadata": {
    "id": "7O0b_EdLIA0f"
   },
   "source": [
    "### Các khái niệm cơ bản"
   ]
  },
  {
   "cell_type": "markdown",
   "metadata": {
    "id": "58r75YYfIA0f"
   },
   "source": [
    "Cho $V \\subset \\mathbb{R}^n$, ta nói $V$ là **không gian con** (subspace) của $\\mathbb{R}^n$, kí hiệu $V \\le \\mathbb{R}^n$ nếu:\n",
    "\n",
    "* $\\boldsymbol{0} \\in V$,\n",
    "\n",
    "* Với mọi $\\boldsymbol{v}, \\boldsymbol{w} \\in V$, ta có $\\alpha \\boldsymbol{v} + \\beta \\boldsymbol{w} \\in V, \\forall \\alpha, \\beta \\in \\mathbb{R}$."
   ]
  },
  {
   "cell_type": "markdown",
   "metadata": {
    "id": "_F8j7ro3IA0f"
   },
   "source": [
    "Cho họ các vector $\\boldsymbol{v}_1, \\boldsymbol{v}_2, ..., \\boldsymbol{v}_k \\in \\mathbb{R}^n$, tập tất cả các tổ hợp tuyến tính của $\\boldsymbol{v}_1, \\boldsymbol{v}_2, ..., \\boldsymbol{v}_k$ được kí hiệu là $\\mathrm{Span}\\{\\boldsymbol{v}_1, \\boldsymbol{v}_2, ..., \\boldsymbol{v}_k\\}$, tức là\n",
    "$$\n",
    "\\mathrm{Span}\\{\\boldsymbol{v}_1, \\boldsymbol{v}_2, ..., \\boldsymbol{v}_k\\} = \\{\\alpha_1 \\boldsymbol{v}_1 + \\alpha_2 \\boldsymbol{v}_2 + ... + \\alpha_k \\boldsymbol{v}_k: \\alpha_1, \\alpha_2, ..., \\alpha_k \\in \\mathbb{R}\\} \\subset \\mathbb{R}^n.\n",
    "$$"
   ]
  },
  {
   "cell_type": "markdown",
   "metadata": {
    "id": "Dm5m96xZIA0f"
   },
   "source": [
    "***Mệnh đề.*** $\\mathrm{Span}\\{\\boldsymbol{v}_1, \\boldsymbol{v}_2, ..., \\boldsymbol{v}_k\\} \\le \\mathbb{R}^n$. Ta còn nói $\\mathrm{Span}\\{\\boldsymbol{v}_1, \\boldsymbol{v}_2, ..., \\boldsymbol{v}_k\\}$ là không gian con **sinh bởi** (span) $\\boldsymbol{v}_1, \\boldsymbol{v}_2, ..., \\boldsymbol{v}_k$ và $\\boldsymbol{v}_1, \\boldsymbol{v}_2, ..., \\boldsymbol{v}_k$ là một **tập sinh** (generating set) của $\\mathrm{Span}\\{\\boldsymbol{v}_1, \\boldsymbol{v}_2, ..., \\boldsymbol{v}_k\\}$."
   ]
  },
  {
   "cell_type": "markdown",
   "metadata": {
    "id": "D4oMZAAUIA0f"
   },
   "source": [
    "Cho họ các vector $\\boldsymbol{v}_1, \\boldsymbol{v}_2, ..., \\boldsymbol{v}_k \\in \\mathbb{R}^n$, ta nói họ là **phụ thuộc tuyến tính** (linearly dependent) nếu có vector nào đó là một tổ hợp tuyến tính của các vector còn lại; ngược lại, họ được nói là **độc lập tuyến tính** (linearly independent)."
   ]
  },
  {
   "cell_type": "markdown",
   "metadata": {
    "id": "JwZJMFhPIA0f"
   },
   "source": [
    "***Mệnh đề.*** Họ $\\boldsymbol{v}_1, \\boldsymbol{v}_2, ..., \\boldsymbol{v}_k \\in \\mathbb{R}^n$ độc lập tuyến tính khi và chỉ khi hệ PTTT thuần nhất $A\\boldsymbol{x} = \\boldsymbol{0}$ có nghiệm duy nhất (là nghiệm tầm thường $\\boldsymbol{0} \\in \\mathbb{R}^k$) với $A \\in \\mathbb{R}^{n \\times k}$ là ma trận gồm các cột $\\boldsymbol{v}_1, \\boldsymbol{v}_2, ..., \\boldsymbol{v}_k$."
   ]
  },
  {
   "cell_type": "markdown",
   "metadata": {
    "id": "fVGIEaZOIA0g"
   },
   "source": [
    "Cho không gian con $V \\le \\mathbb{R}^n$ và họ hữu hạn $B \\subset \\mathbb{R}^n$, ta nói $B$ là một **cơ sở** (basic) của $V$ nếu $B$ là một tập sinh của $V$ và $B$ độc lập tuyến tính. Khi đó, $|B|$ (số lượng vector trong $B$) được gọi là **số chiều** (dimension) của $V$, kí hiệu $\\mathrm{dim}(V)$."
   ]
  },
  {
   "cell_type": "markdown",
   "metadata": {
    "id": "muuUM8g7IA0g"
   },
   "source": [
    "Các ví dụ về không gian con:"
   ]
  },
  {
   "cell_type": "markdown",
   "metadata": {
    "id": "ckbP-Z0ZIA0g"
   },
   "source": [
    "> $\\{0\\}$ là không gian con tầm thường của $\\mathbb{R}^n$ với số chiều là 0 và cơ sở là $\\{\\}$."
   ]
  },
  {
   "cell_type": "markdown",
   "metadata": {
    "id": "V_FWxIGeIA0g"
   },
   "source": [
    "> $\\mathbb{R}^n$ là không gian con tầm thường của $\\mathbb{R}^n$ với số chiều là $n$. Tập các vector $\\boldsymbol{e}_1 = (1, 0, ..., 0), \\boldsymbol{e}_2 = (0, 1, 0, ..., 0), ..., \\boldsymbol{e}_n = (0, ..., 0, 1)$ là một cơ sở của $\\mathbb{R}^n$, gọi là **cơ sở chính tắc** (standard basic)."
   ]
  },
  {
   "cell_type": "markdown",
   "metadata": {
    "id": "xt-JBL08IA0g"
   },
   "source": [
    "> Cho ma trận $A \\in \\mathbb{R}^{m \\times n}$, ta nói:\n",
    ">   * **Không gian dòng** (row space) của $A$, kí hiệu $\\mathrm{Row}(A)$, là không gian con sinh bởi các dòng của $A$\n",
    ">   $$\\mathrm{Row}(A) = \\mathrm{Span}\\{\\boldsymbol{a}_{1,}, \\boldsymbol{a}_{2,}, ..., \\boldsymbol{a}_{m,}\\} \\le \\mathbb{R}^{n},$$\n",
    ">   * **Không gian cột** (column space) của $A$, kí hiệu $\\mathrm{Col}(A)$, là không gian con sinh bởi các cột của $A$\n",
    ">   $$\\mathrm{Col}(A) = \\mathrm{Span}\\{\\boldsymbol{a}_{,1}, \\boldsymbol{a}_{,2}, ..., \\boldsymbol{a}_{,n}\\} \\le \\mathbb{R}^{m},$$\n",
    ">   * **Không gian nghiệm** (null space) của $A$, kí hiệu $\\mathrm{Null}(A)$, là tập tất cả các nghiệm của hệ PTTT thuần nhất $A\\boldsymbol{x} = \\boldsymbol{0}$.\n",
    ">     ***Mệnh đề.*** $\\mathrm{Null}(A) \\le \\mathbb{R}^{n}$.\n",
    "\n",
    "> ***Mệnh đề.*** $\\mathrm{Col}(A) = \\mathrm{Row}(A^T)$.\n",
    "\n",
    "> ***Mệnh đề.*** $\\mathrm{dim}(\\mathrm{Row}(A)) = \\mathrm{dim}(\\mathrm{Col}(A))$. Số chiều này còn được gọi là **hạng** (rank) của ma trận, kí hiệu, $\\mathrm{rank}(A)$.\n",
    "\n",
    "> ***Mệnh đề.*** $\\mathrm{rank}(A) + \\mathrm{dim}(\\mathrm{Null}(A)) = n$.\n",
    "\n",
    "> ***Mệnh đề.*** Nếu $A, B$ tương đương dòng thì $\\mathrm{Row}(A) = \\mathrm{Row}(B)$. Nếu $E$ là ma trận bậc thang (theo dòng) thì các dòng khác $\\boldsymbol{0}$ của $E$ lập thành một cơ sở của $\\mathrm{Row}(E)$."
   ]
  },
  {
   "cell_type": "markdown",
   "metadata": {
    "id": "YxkvYKR3IA0g"
   },
   "source": [
    "### Thư viện hỗ trợ"
   ]
  },
  {
   "cell_type": "markdown",
   "metadata": {
    "id": "ms9oHzOsIA0g"
   },
   "source": [
    "* **NumPy**, **SciPy**:\n",
    "\n",
    "  * hàm [`numpy.linalg.matrix_rank`](https://numpy.org/doc/stable/reference/generated/numpy.linalg.matrix_rank.html) tìm hạng của ma trận.\n",
    "\n",
    "  * hàm [`scipy.linalg.null_space`](https://docs.scipy.org/doc/scipy/reference/generated/scipy.linalg.null_space.html) tìm không gian nghiệm của ma trận (trả về một cơ sở của không gian nghiệm)."
   ]
  },
  {
   "cell_type": "markdown",
   "metadata": {
    "id": "k11uxZa0IA0g"
   },
   "source": [
    "* **SymPy**:\n",
    "  - phương thức [`rank`](https://docs.sympy.org/latest/modules/matrices/matrices.html#sympy.matrices.matrices.MatrixReductions.rank) tìm hạng của ma trận.\n",
    "\n",
    "  - Các phương thức [`rowspace`](https://docs.sympy.org/latest/modules/matrices/matrices.html#sympy.matrices.matrices.MatrixSubspaces.rowspace), [`columnspace`](https://docs.sympy.org/latest/modules/matrices/matrices.html#sympy.matrices.matrices.MatrixSubspaces.columnspace), [`nullspace`](https://docs.sympy.org/latest/modules/matrices/matrices.html#sympy.matrices.matrices.MatrixSubspaces.nullspace) tìm các không gian dòng, cột, nghiệm của ma trận (trả về một cơ sở của không gian tương ứng)."
   ]
  },
  {
   "cell_type": "markdown",
   "metadata": {
    "id": "XCQyOKFDIA0g"
   },
   "source": [
    "### Ví dụ"
   ]
  },
  {
   "cell_type": "markdown",
   "metadata": {
    "id": "ruL06YfMIA0h"
   },
   "source": [
    "#### Ví dụ 1"
   ]
  },
  {
   "cell_type": "markdown",
   "metadata": {
    "id": "GrdbISDLIA0h"
   },
   "source": [
    "Trong $\\mathbb{R}^3$, cho $\\boldsymbol{v}_1 = (1, 2, -3), \\boldsymbol{v}_2 = (2, 5, -1), \\boldsymbol{v}_3 = (1, 1, -8)$. Kiểm tra $B = \\{\\boldsymbol{v}_1, \\boldsymbol{v}_2, \\boldsymbol{v}_3\\}$ có là một cơ sở của $\\mathbb{R}^3$."
   ]
  },
  {
   "cell_type": "markdown",
   "metadata": {
    "id": "DsYLy5kgIA0h"
   },
   "source": [
    "Nếu $\\boldsymbol{v}_1, \\boldsymbol{v}_2, \\boldsymbol{v}_3$ độc lập tuyến tính thì $B$ là một cơ sở của $\\mathbb{R}^3$ do $\\mathrm{dim}(\\mathbb{R}^3) = 3$."
   ]
  },
  {
   "cell_type": "markdown",
   "metadata": {
    "id": "1XCOKCAiIA0h"
   },
   "source": [
    "Đặt $A$ là ma trận gồm các cột $\\boldsymbol{v}_1, \\boldsymbol{v}_2, \\boldsymbol{v}_3$, ta có $\\boldsymbol{v}_1, \\boldsymbol{v}_2, \\boldsymbol{v}_3$ độc lập tuyến tính khi và chỉ khi hệ PTTT $A\\boldsymbol{x} = \\boldsymbol{0}$ có nghiệm duy nhất."
   ]
  },
  {
   "cell_type": "code",
   "execution_count": null,
   "metadata": {
    "id": "NKT7rB-0IA0h",
    "outputId": "9cdfe3f0-b7bc-4f74-9e35-e89e7828b418"
   },
   "outputs": [],
   "source": [
    "v1, v2, v3 = [1, 2, -3], [2, 5, -1], [1, 1, -8]\n",
    "\n",
    "A = transpose([v1, v2, v3])\n",
    "\n",
    "myprint(Gauss_elimination(to_fraction(A)))"
   ]
  },
  {
   "cell_type": "markdown",
   "metadata": {
    "id": "7qzgL5E1IA0h"
   },
   "source": [
    "Từ ma trận bậc thang trên, ta thấy hệ có vô số nghiệm."
   ]
  },
  {
   "cell_type": "code",
   "execution_count": null,
   "metadata": {
    "id": "ENSOLZDEIA0h",
    "outputId": "174eb61a-5580-4cb2-b207-32acd6de71ed"
   },
   "outputs": [],
   "source": [
    "print(scipy.linalg.null_space(A))\n",
    "\n",
    "Matrix(A).nullspace()"
   ]
  },
  {
   "cell_type": "markdown",
   "metadata": {
    "id": "zpFxQqd8IA0h"
   },
   "source": [
    "Như vậy $\\boldsymbol{v}_1, \\boldsymbol{v}_2, \\boldsymbol{v}_3$ không độc lập tuyến tính nên $B$ không là cơ sở của $\\mathbb{R}^3$."
   ]
  },
  {
   "cell_type": "markdown",
   "metadata": {
    "id": "4edOudEwIA0i"
   },
   "source": [
    "Ta cũng có thể dùng hạng của ma trận để kiểm tra"
   ]
  },
  {
   "cell_type": "code",
   "execution_count": null,
   "metadata": {
    "id": "IZJeyFWDIA0j",
    "outputId": "5be7c4d8-9fd8-4ef5-ddba-0057af793ae7"
   },
   "outputs": [],
   "source": [
    "print(np.linalg.matrix_rank(A))\n",
    "\n",
    "print(Matrix(A).rank())"
   ]
  },
  {
   "cell_type": "markdown",
   "metadata": {
    "id": "koNIICSuIA0j"
   },
   "source": [
    "Vì $\\mathrm{rank}(A) = 2 < 3$ nên $\\boldsymbol{v}_1, \\boldsymbol{v}_2, \\boldsymbol{v}_3$ không độc lập tuyến tính."
   ]
  },
  {
   "cell_type": "markdown",
   "metadata": {
    "id": "ozrGIHu6IA0j"
   },
   "source": [
    "#### Ví dụ 2"
   ]
  },
  {
   "cell_type": "markdown",
   "metadata": {
    "id": "Kdo6P3EJIA0j"
   },
   "source": [
    "Trong $\\mathbb{R}^4$, cho $\\boldsymbol{v}_1 = (1, 2, 1, 1), \\boldsymbol{v}_2 = (3, 6, 5, 7), \\boldsymbol{v}_3 = (4, 8, 6, 8), \\boldsymbol{v}_4 = (8, 16, 12, 20)$. Tìm một cơ sở và số chiều của không gian con sinh bởi $\\boldsymbol{v}_1, \\boldsymbol{v}_2, \\boldsymbol{v}_3, \\boldsymbol{v}_4$."
   ]
  },
  {
   "cell_type": "markdown",
   "metadata": {
    "id": "uvhY3PT5IA0j"
   },
   "source": [
    "Đặt $A$ là ma trận gồm các dòng $\\boldsymbol{v}_1, \\boldsymbol{v}_2, \\boldsymbol{v}_3, \\boldsymbol{v}_4$, ta có $\\mathrm{Row}(A) = \\mathrm{Span}\\{\\boldsymbol{v}_{1}, \\boldsymbol{v}_{2}, \\boldsymbol{v}_{3}, \\boldsymbol{v}_{4}\\}$."
   ]
  },
  {
   "cell_type": "code",
   "execution_count": null,
   "metadata": {
    "id": "J9VvwLksIA0j",
    "outputId": "c1bec513-14b3-41ec-c30a-65efde194e14"
   },
   "outputs": [],
   "source": [
    "v1, v2, v3, v4 = [1, 2, 1, 1], [3, 6, 5, 7], [4, 8, 6, 8], [8, 16, 12, 20]\n",
    "A = [v1, v2, v3, v4]\n",
    "\n",
    "myprint(Gauss_elimination(to_fraction(A)))"
   ]
  },
  {
   "cell_type": "markdown",
   "metadata": {
    "id": "RvmcZbPiIA0j"
   },
   "source": [
    "Như vậy $\\mathrm{Span}\\{\\boldsymbol{v}_{1}, \\boldsymbol{v}_{2}, \\boldsymbol{v}_{3}, \\boldsymbol{v}_{4}\\}$ có số chiều là 3 và có một cơ sở là\n",
    "$$\n",
    "\\{(1, 2, 1, 1), (0, 0, 1, 2), (0, 0, 0, 1)\\}.\n",
    "$$"
   ]
  },
  {
   "cell_type": "code",
   "execution_count": null,
   "metadata": {
    "id": "NLLYkkgqIA0k",
    "outputId": "c961e8f2-02b8-4d2d-a1d2-32cc5473b9c2"
   },
   "outputs": [],
   "source": [
    "Matrix(A).rowspace()"
   ]
  },
  {
   "cell_type": "markdown",
   "metadata": {
    "id": "TL-l72AiIA0k"
   },
   "source": [
    "#### Ví dụ 3"
   ]
  },
  {
   "cell_type": "markdown",
   "metadata": {
    "id": "rvK5L5hDIA0k"
   },
   "source": [
    "Tìm không gian nghiệm của hệ PTTT thuần nhất sau\n",
    "$$\n",
    "\\begin{matrix}\n",
    "   x_1 & + & 2x_2 & - &  3x_3 & + &  5x_4 & = & 0\\\\\n",
    "   x_1 & + & 3x_2 & - & 13x_3 & + & 22x_4 & = & 0\\\\\n",
    "  3x_1 & + & 5x_2 & + &   x_3 & - &  2x_4 & = & 0\\\\\n",
    "  2x_1 & + & 3x_2 & + &  4x_3 & - &  7x_4 & = & 0\\\\\n",
    "\\end{matrix}.\n",
    "$$"
   ]
  },
  {
   "cell_type": "markdown",
   "metadata": {
    "id": "nxBFoVyTIA0k"
   },
   "source": [
    "Không gian nghiệm của hệ PTTT thuần nhất trên chính là không gian nghiệm của ma trận hệ số\n",
    "$$\n",
    "A =\n",
    "\\begin{bmatrix}\n",
    "1 & 2 &  -3 & 5\\\\\n",
    "1 & 3 & -13 & 22\\\\\n",
    "3 & 5 &   1 & -2\\\\\n",
    "2 & 3 &   4 & -7\\\\\n",
    "\\end{bmatrix}.\n",
    "$$"
   ]
  },
  {
   "cell_type": "code",
   "execution_count": null,
   "metadata": {
    "id": "7MpYsyXjIA0k",
    "outputId": "16867c6a-0081-4e63-d8f0-97687faf58f4"
   },
   "outputs": [],
   "source": [
    "A = [[1, 2,  -3,  5],\n",
    "     [1, 3, -13, 22],\n",
    "     [3, 5,   1, -2],\n",
    "     [2, 3,   4, -7]]\n",
    "\n",
    "A_bar = augmented_matrix(A, create_zero_vector(4))\n",
    "myprint(back_substitution(Gauss_elimination(to_fraction(A_bar))), \", \")"
   ]
  },
  {
   "cell_type": "markdown",
   "metadata": {
    "id": "t8sYFCpsIA0k"
   },
   "source": [
    "Như vậy, hệ có nghiệm tổng quát\n",
    "$$\n",
    "\\boldsymbol{x} =\n",
    "\\begin{bmatrix}\n",
    "x_1 \\\\ x_2 \\\\ x_3 \\\\ x_4\n",
    "\\end{bmatrix} =\n",
    "\\begin{bmatrix}\n",
    "-17x_3 + 29x_4 \\\\ 10x_3 - 17x_4 \\\\ x_3 \\\\ x_4\n",
    "\\end{bmatrix} =\n",
    "x_3 \\begin{bmatrix}\n",
    "-17 \\\\ 10 \\\\ 1 \\\\ 0 \\\\\n",
    "\\end{bmatrix} +\n",
    "x_4 \\begin{bmatrix}\n",
    "29 \\\\ -17 \\\\ 0 \\\\ 1 \\\\\n",
    "\\end{bmatrix},\n",
    "x_3, x_4 \\in \\mathbb{R}.\n",
    "$$"
   ]
  },
  {
   "cell_type": "markdown",
   "metadata": {
    "id": "NhNiJO8EIA0k"
   },
   "source": [
    "Như vậy $\\mathrm{Null}(A)$ có số chiều là 2 và có một cơ sở là\n",
    "$$\n",
    "\\{(-17, 10, 1, 0), (29, -17, 0, 1)\\}\n",
    "$$"
   ]
  },
  {
   "cell_type": "code",
   "execution_count": null,
   "metadata": {
    "id": "iZXP1TOEIA0l",
    "outputId": "91eb671a-ecb9-4154-ff01-86b4f1cde5e4"
   },
   "outputs": [],
   "source": [
    "Matrix(A).nullspace()"
   ]
  },
  {
   "cell_type": "markdown",
   "metadata": {
    "id": "hS8yvJMlIA0l"
   },
   "source": [
    "## Trực giao hóa với thuật giải Gram-Schmidt <a class=\"anchor\" id=\"c7\"></a>"
   ]
  },
  {
   "cell_type": "markdown",
   "metadata": {
    "id": "k8R0CFVNIA0l"
   },
   "source": [
    "### Các khái niệm cơ bản"
   ]
  },
  {
   "cell_type": "markdown",
   "metadata": {
    "id": "TplOBcuQIA0l"
   },
   "source": [
    "Ta nói họ (hệ, tập) các vector $\\boldsymbol{v}_1, \\boldsymbol{v}_2, ..., \\boldsymbol{v}_k \\in \\mathbb{R}^n$ là **trực giao** (orthogonal) nếu chúng đôi một trực giao, tức là $\\langle \\boldsymbol{v}_i, \\boldsymbol{v}_j \\rangle = 0, \\forall i \\ne j.$"
   ]
  },
  {
   "cell_type": "code",
   "execution_count": null,
   "metadata": {
    "id": "P8SLMEruIA0l"
   },
   "outputs": [],
   "source": [
    "def orthogonal_set(vs):\n",
    "    return all(is_orthogonal(vs[i], vs[j]) for i in range(len(vs)) for j in range(len(vs)) if i != j)"
   ]
  },
  {
   "cell_type": "markdown",
   "metadata": {
    "id": "z2LGhWyiIA0l"
   },
   "source": [
    "Ta nói họ (hệ, tập) các vector $\\boldsymbol{q_1}, \\boldsymbol{q}_2, ..., \\boldsymbol{q}_k \\in \\mathbb{R}^n$ là **trực chuẩn** (orthonormal) nếu chúng là họ trực giao các vector đơn vị."
   ]
  },
  {
   "cell_type": "code",
   "execution_count": null,
   "metadata": {
    "id": "DT4WBVRsIA0l"
   },
   "outputs": [],
   "source": [
    "def orthonormal_set(vs):\n",
    "    return orthogonal_set(vs) and all(is_unit_vector(vi) for vi in vs)"
   ]
  },
  {
   "cell_type": "markdown",
   "metadata": {
    "id": "6BEazrMeIA0l"
   },
   "source": [
    "### Thuật giải Gram-Schmidt"
   ]
  },
  {
   "cell_type": "markdown",
   "metadata": {
    "id": "_nV-UOSOIA0l"
   },
   "source": [
    "Cho tập các vector $\\boldsymbol{v}_1, \\boldsymbol{v}_2, ..., \\boldsymbol{v}_k \\in \\mathbb{R}^n$, **thuật giải Gram-Schmidt** (Gram-Schmidt algorithm) tìm họ trực giao (hoặc trực chuẩn) các vector $\\boldsymbol{q}_1, \\boldsymbol{q}_2, ..., \\boldsymbol{q}_r \\in \\mathbb{R}^n$ là một cơ sở của $\\mathrm{Span}\\{\\boldsymbol{v}_1, \\boldsymbol{v}_2, ..., \\boldsymbol{v}_k\\}$. Thuật giải gồm các bước:\n",
    "\n",
    "> **Bước 1.** Tạo tập $Q = \\{\\}$ chứa cơ sở kết quả.\n",
    "\n",
    "> **Bước 2.** Đặt $i = 1$ và lặp lại các Bước 3-4 cho đến khi $i > k$.\n",
    "\n",
    "> **Bước 3.** Tính\n",
    "> $$\n",
    "\\boldsymbol{q}_i = \\boldsymbol{v}_i - \\sum_{\\boldsymbol{q}_j \\in Q} \\frac{\\langle \\boldsymbol{v}_i, \\boldsymbol{q}_j \\rangle}{\\| \\boldsymbol{q}_j \\|^2}\\boldsymbol{q}_j\n",
    "$$\n",
    "\n",
    "> **Bước 4.** Nếu $\\boldsymbol{q}_i \\neq 0$ thì thêm $\\boldsymbol{q}_i$ vào $Q$. Tăng $i$ thêm $1$.\n",
    "\n",
    "> **Bước 5.** **Chuẩn hóa** (normalizing) nếu cần họ trực chuẩn\n",
    "> $$\n",
    "\\boldsymbol{q}_i = \\frac{\\boldsymbol{q}_i}{\\| \\boldsymbol{q}_i \\|}, \\forall \\boldsymbol{q}_i \\in Q\n",
    "$$\n",
    "\n",
    "> **Bước 6.** Trả về $Q$."
   ]
  },
  {
   "cell_type": "code",
   "execution_count": null,
   "metadata": {
    "id": "je6uouoDIA0l"
   },
   "outputs": [],
   "source": [
    "def Gram_Schmidt(vs, normalizing=False):\n",
    "    # Bước 1\n",
    "    Q = []\n",
    "\n",
    "    # Bước 2\n",
    "    for vi in vs:\n",
    "        # Bước 3\n",
    "        qi = vi\n",
    "        for qj in Q:\n",
    "            qi = sub_vector(qi, mul_scalar_vector(Fraction(calc_inner_product(vi, qj), calc_inner_product(qj, qj)), qj))\n",
    "\n",
    "        # Bước 4\n",
    "        if not is_zero_vector(qi):\n",
    "            Q.append(qi)\n",
    "\n",
    "    # Bước 5\n",
    "    if normalizing:\n",
    "        Q = [mul_scalar_vector(1/norm(qi), qi) for qi in Q]\n",
    "\n",
    "    return Q"
   ]
  },
  {
   "cell_type": "markdown",
   "metadata": {
    "id": "hBUDvLGuIA0m"
   },
   "source": [
    "### Thư viện hỗ trợ"
   ]
  },
  {
   "cell_type": "markdown",
   "metadata": {
    "id": "ksKGtRGfIA0m"
   },
   "source": [
    "* **SciPy**: dùng hàm [`scipy.linalg.orth`](https://docs.scipy.org/doc/scipy/reference/generated/scipy.linalg.orth.html) để tìm cơ sở trực chuẩn của không gian cột của một ma trận. Tuy nhiên, hàm này dùng một thuật giải khác (mà ta sẽ học sau)."
   ]
  },
  {
   "cell_type": "markdown",
   "metadata": {
    "id": "4L1BcchTIA0m"
   },
   "source": [
    "* **SymPy**: dùng hàm [`sympy.Matrix.orthogonalize`](https://docs.sympy.org/latest/modules/matrices/matrices.html#sympy.matrices.matrices.MatrixSubspaces.orthogonalize) để thực hiện giải thuật Gram-Schmidt."
   ]
  },
  {
   "cell_type": "markdown",
   "metadata": {
    "id": "m_D9CeSAIA0m"
   },
   "source": [
    "### Ví dụ"
   ]
  },
  {
   "cell_type": "markdown",
   "metadata": {
    "id": "rPqMFaHpIA0m"
   },
   "source": [
    "#### Ví dụ 1"
   ]
  },
  {
   "cell_type": "markdown",
   "metadata": {
    "id": "Bz7tGugGIA0m"
   },
   "source": [
    "Dùng thuật giải Gram-Schmidt trực giao hóa họ 3 vector sau và cho biết họ có độc lập tuyến tính hay không?\n",
    "$$\n",
    "\\boldsymbol{v}_1 = (-1, 1, -1, 1), \\boldsymbol{v}_2 = (-1, 3, -1, 3), \\boldsymbol{v}_3 = (0, 2, 0, 2)\n",
    "$$"
   ]
  },
  {
   "cell_type": "code",
   "execution_count": null,
   "metadata": {
    "id": "y4F-LxljIA0m",
    "outputId": "82d8aa8f-d03a-4834-9a44-6e82a019f0e9"
   },
   "outputs": [],
   "source": [
    "v1 = [-1, 1, -1, 1]\n",
    "v2 = [-1, 3, -1, 3]\n",
    "v3 = [0, 2, 0, 2]\n",
    "vs = [v1, v2, v3]\n",
    "\n",
    "Q = Gram_Schmidt(vs)\n",
    "myprint(Q)\n",
    "\n",
    "if len(Q) < len(vs):\n",
    "    print(\"Hệ không độc lập tuyến tính!\")"
   ]
  },
  {
   "cell_type": "code",
   "execution_count": null,
   "metadata": {
    "id": "hWafE1dNIA0m",
    "outputId": "c0334541-b4c9-44a6-910e-077528e30fb9"
   },
   "outputs": [],
   "source": [
    "Q1 = Gram_Schmidt(vs, normalizing=True)\n",
    "Q2 = scipy.linalg.orth(np.array(vs).T).T\n",
    "\n",
    "print('Trực giao sử dụng Gram_Schmidt')\n",
    "myprint(Q1)\n",
    "\n",
    "print('\\nTrực giao sử dụng scipy.linalg.orth')\n",
    "print(Q2)\n",
    "\n",
    "print('\\nKiểm tra trực chuẩn')\n",
    "print(orthonormal_set(Q1), orthonormal_set(Q2))"
   ]
  },
  {
   "cell_type": "code",
   "execution_count": null,
   "metadata": {
    "id": "W54uUInDIA0m",
    "outputId": "05751f47-79f6-4034-eb27-0a51f2359f91"
   },
   "outputs": [],
   "source": [
    "Matrix.orthogonalize(Matrix(v1), Matrix(v2), Matrix(v3), normalize=True)"
   ]
  },
  {
   "cell_type": "markdown",
   "metadata": {
    "id": "k-fRkzElIA0n"
   },
   "source": [
    "Như vậy, họ $\\boldsymbol{v}_1, \\boldsymbol{v}_2, \\boldsymbol{v}_3$ không độc lập tuyến tính và một cơ sở trực giao cho $\\mathrm{Span}\\{\\boldsymbol{v}_1, \\boldsymbol{v}_2, \\boldsymbol{v}_3\\} \\le \\mathbb{R}^4$ là\n",
    "$$\n",
    "\\boldsymbol{q}_1 = (-1, 1, -1, 1), \\boldsymbol{q}_2 = (1, 1, 1, 1)\n",
    "$$"
   ]
  },
  {
   "cell_type": "markdown",
   "metadata": {
    "id": "8jzCeVm7IA0n"
   },
   "source": [
    "#### Ví dụ 2"
   ]
  },
  {
   "cell_type": "markdown",
   "metadata": {
    "id": "sMATi6LsIA0n"
   },
   "source": [
    "Dùng thuật giải Gram-Schmidt trực chuẩn hóa họ 3 vector sau\n",
    "$$\n",
    "\\boldsymbol{v}_1 = (1, 1, 1), \\boldsymbol{v}_2 = (0, 1, 1), \\boldsymbol{v}_3 = (0, 0, 1)\n",
    "$$"
   ]
  },
  {
   "cell_type": "code",
   "execution_count": null,
   "metadata": {
    "id": "L6w6TLFSIA0n",
    "outputId": "d5ebf61d-2cbe-4a84-ff00-014c895f5c6d"
   },
   "outputs": [],
   "source": [
    "v1 = [1, 1, 1]\n",
    "v2 = [0, 1, 1]\n",
    "v3 = [0, 0, 1]\n",
    "\n",
    "myprint(Gram_Schmidt([v1, v2, v3]))\n",
    "myprint(Gram_Schmidt([v1, v2, v3], normalizing=True))"
   ]
  },
  {
   "cell_type": "code",
   "execution_count": null,
   "metadata": {
    "id": "c7iMI4soIA0n",
    "outputId": "5a94f14c-845a-45d7-844d-719b4736450d"
   },
   "outputs": [],
   "source": [
    "Matrix.orthogonalize(Matrix(v1), Matrix(v2), Matrix(v3), normalize=True)"
   ]
  },
  {
   "cell_type": "markdown",
   "metadata": {
    "id": "JomOLC4aIA0n"
   },
   "source": [
    "Như vậy, họ $\\boldsymbol{v}_1, \\boldsymbol{v}_2, \\boldsymbol{v}_3$ độc lập tuyến tính và một cơ sở trực chuẩn cho $\\mathrm{Span}\\{\\boldsymbol{v}_1, \\boldsymbol{v}_2, \\boldsymbol{v}_3\\} = \\mathbb{R}^3$ là\n",
    "$$\n",
    "\\boldsymbol{q}_1 = \\frac{1}{\\sqrt{3}}(1, 1, 1), \\boldsymbol{q}_2 = \\frac{1}{\\sqrt{6}}(-2, 1, 1), \\boldsymbol{q}_3 = \\frac{1}{\\sqrt{2}}(0, -1, 1)\n",
    "$$"
   ]
  },
  {
   "cell_type": "markdown",
   "metadata": {
    "id": "RUxPc2UmIA0n"
   },
   "source": [
    "## Bài tập <a class=\"anchor\" id=\"c8\"></a>"
   ]
  },
  {
   "cell_type": "markdown",
   "metadata": {
    "id": "fAAIOZjjIA0o"
   },
   "source": [
    "### Bài tập tự rèn luyện"
   ]
  },
  {
   "cell_type": "markdown",
   "metadata": {
    "id": "pOJcZc6fIA0o"
   },
   "source": [
    "Cho $\\boldsymbol{v}, \\boldsymbol{w} \\in \\mathbb{R}^n$ khác $\\boldsymbol{0}$, ta định nghĩa **góc** (angle) giữa $\\boldsymbol{v}, \\boldsymbol{w}$ là\n",
    "$$\n",
    "\\mathrm{angle}(\\boldsymbol{v}, \\boldsymbol{w}) = \\arccos \\left( \\frac{\\langle \\boldsymbol{v}, \\boldsymbol{w} \\rangle}{\\| \\boldsymbol{v} \\|\\| \\boldsymbol{w} \\|} \\right).\n",
    "$$"
   ]
  },
  {
   "cell_type": "markdown",
   "metadata": {
    "id": "AUx3XTK4IA0o"
   },
   "source": [
    "Viết hàm tính góc giữa $\\boldsymbol{v}, \\boldsymbol{w}$ được cho"
   ]
  },
  {
   "cell_type": "code",
   "execution_count": null,
   "metadata": {
    "id": "gbzGx-96IA0o"
   },
   "outputs": [],
   "source": [
    "def angle(v, w):\n",
    "    pass # TODO"
   ]
  },
  {
   "cell_type": "markdown",
   "metadata": {
    "id": "gFJK0Xn4IA0o"
   },
   "source": [
    "Viết hàm tính tổ hợp tuyến tính của các vector $\\boldsymbol{v}_1, \\boldsymbol{v}_2, ..., \\boldsymbol{v}_k \\in \\mathbb{R}^n$ theo các hệ số $\\alpha_1, \\alpha_2, ..., \\alpha_k \\in \\mathbb{R}$."
   ]
  },
  {
   "cell_type": "code",
   "execution_count": null,
   "metadata": {
    "id": "x4Tjw5tOIA0o"
   },
   "outputs": [],
   "source": [
    "def linear_combination(vs, alphas):\n",
    "    \"vs là danh sách các vector và alphas là danh sách các hệ số tương ứng\"\n",
    "    pass # TODO"
   ]
  },
  {
   "cell_type": "markdown",
   "metadata": {
    "id": "Cbj5qCdiIA0o"
   },
   "source": [
    "Từ đó viết hàm tính vector trung bình của $k$ vector $\\boldsymbol{v}_1, \\boldsymbol{v}_2, ..., \\boldsymbol{v}_k \\in \\mathbb{R}^n$\n",
    "$$\n",
    "\\mathrm{mean}\\{\\boldsymbol{v}_1, \\boldsymbol{v}_2, ..., \\boldsymbol{v}_k\\} = \\frac{\\sum_{i=1}^k \\boldsymbol{v}_i}{k}.\n",
    "$$"
   ]
  },
  {
   "cell_type": "code",
   "execution_count": null,
   "metadata": {
    "id": "9b6j6JH5IA0o"
   },
   "outputs": [],
   "source": [
    "def mean(vs):\n",
    "    pass # TODO"
   ]
  },
  {
   "cell_type": "markdown",
   "metadata": {
    "id": "0hdUJSlPIA0o"
   },
   "source": [
    "Cho $\\boldsymbol{v} = (v_1, v_2, .., v_n) \\in \\mathbb{R}^n$, ta nói vector tích lũy của $\\boldsymbol{v}$, kí hiệu $\\mathrm{acc}(\\boldsymbol{v})$, là vector $\\boldsymbol{w} = (w_1, w_2, ..., w_n) \\in \\mathbb{R}^n$ thỏa\n",
    "$$\n",
    "w_i = \\sum_{j=1}^i v_j, \\forall i = 1, 2, ..., n\n",
    "$$\n",
    "và nói vector sai phân của $\\boldsymbol{v}$, kí hiệu $\\mathrm{diff}(\\boldsymbol{v})$, là vector $\\boldsymbol{w} = (w_1, w_2, ..., w_n) \\in \\mathbb{R}^n$ thỏa $w_1 = v_1$ và $w_i = v_{i} - v_{i - 1}, \\forall i = 2, ..., n$."
   ]
  },
  {
   "cell_type": "markdown",
   "metadata": {
    "id": "OX0if7eEIA0p"
   },
   "source": [
    "Viết các hàm tính $\\mathrm{acc}(\\boldsymbol{v}), \\mathrm{diff}(\\boldsymbol{v})$ từ $\\boldsymbol{v}$ và từ đó nhận xét quan hệ giữa các vector này."
   ]
  },
  {
   "cell_type": "code",
   "execution_count": null,
   "metadata": {
    "id": "W0n5BLCGIA0p"
   },
   "outputs": [],
   "source": [
    "def acc(v):\n",
    "    pass # TODO\n",
    "\n",
    "def diff(v):\n",
    "    pass # TODO"
   ]
  },
  {
   "cell_type": "markdown",
   "metadata": {
    "id": "vODaiZe4IA0p"
   },
   "source": [
    "Cho $V = \\{\\boldsymbol{v}_1, \\boldsymbol{v}_2, ..., \\boldsymbol{v}_m\\} \\subset \\mathbb{R}^n$ và $\\boldsymbol{v} \\in \\mathbb{R}^n$, ta nói **láng giềng gần nhất** (nearest neighbor) của $\\boldsymbol{v}$ trong $S$ là $\\boldsymbol{w} \\in S$ sao cho\n",
    "$$\n",
    "\\| \\boldsymbol{v} - \\boldsymbol{w} \\| \\le \\| \\boldsymbol{v} - \\boldsymbol{v}_i \\|, \\forall i = 1, 2, ..., m.\n",
    "$$"
   ]
  },
  {
   "cell_type": "markdown",
   "metadata": {
    "id": "NxAXTniwIA0p"
   },
   "source": [
    "Viết hàm tìm láng giềng gần nhất của của $\\boldsymbol{v}$ trong $S$ được cho."
   ]
  },
  {
   "cell_type": "code",
   "execution_count": null,
   "metadata": {
    "id": "BJONeQzpIA0p"
   },
   "outputs": [],
   "source": [
    "def nearest_neighbor(v, S):\n",
    "    pass # TODO"
   ]
  },
  {
   "cell_type": "markdown",
   "metadata": {
    "id": "gzXA0PDxIA0p"
   },
   "source": [
    "Mở rộng khái niệm láng giềng gần nhất thành $k$ láng giềng gần nhất và viết hàm thực hiện."
   ]
  },
  {
   "cell_type": "code",
   "execution_count": null,
   "metadata": {
    "id": "-5Fn5szOIA0p"
   },
   "outputs": [],
   "source": [
    "def kNN(v, S, k=1):\n",
    "    pass # TODO"
   ]
  },
  {
   "cell_type": "markdown",
   "metadata": {
    "id": "kxWZCNZXIA0p"
   },
   "source": [
    "### Bài tập ứng dụng: Cân bằng phản ứng hóa học"
   ]
  },
  {
   "cell_type": "markdown",
   "metadata": {
    "id": "A39OF9vSIA0p"
   },
   "source": [
    "**Công thức hóa học** (chemical formula) của các phân tử hóa học có thể được mô tả trong Python bằng một danh sách ([`list`](https://docs.python.org/3/tutorial/datastructures.html#more-on-lists)) các bộ ([`tuple`](https://docs.python.org/3/tutorial/datastructures.html#tuples-and-sequences)). Chẳng hạn, công thức hóa học của nước $\\text{H}_2\\text{O}$ có thể được mô tả bởi danh sách `[(\"H\", 2), (\"O\", 1)]`."
   ]
  },
  {
   "cell_type": "markdown",
   "metadata": {
    "id": "dhAIcSVPIA0p"
   },
   "source": [
    "Viết hàm trả về chuỗi biểu diễn LaTeX của công thức hóa học."
   ]
  },
  {
   "cell_type": "code",
   "execution_count": null,
   "metadata": {
    "id": "mQvASmI1IA0q"
   },
   "outputs": [],
   "source": [
    "def chemical_formula(mol):\n",
    "    pass # TODO"
   ]
  },
  {
   "cell_type": "code",
   "execution_count": null,
   "metadata": {
    "id": "W5I32yETIA0q",
    "outputId": "3fc7f5ed-8f9e-4e83-e3f6-5ed014d71f47",
    "scrolled": true
   },
   "outputs": [
    {
     "ename": "NameError",
     "evalue": "name 'chemical_formula' is not defined",
     "output_type": "error",
     "traceback": [
      "\u001b[1;31m---------------------------------------------------------------------------\u001b[0m",
      "\u001b[1;31mNameError\u001b[0m                                 Traceback (most recent call last)",
      "Cell \u001b[1;32mIn[1], line 3\u001b[0m\n\u001b[0;32m      1\u001b[0m \u001b[38;5;28;01mfrom\u001b[39;00m \u001b[38;5;21;01mIPython\u001b[39;00m\u001b[38;5;21;01m.\u001b[39;00m\u001b[38;5;21;01mdisplay\u001b[39;00m \u001b[38;5;28;01mimport\u001b[39;00m Latex\n\u001b[1;32m----> 3\u001b[0m mol \u001b[38;5;241m=\u001b[39m \u001b[43mchemical_formula\u001b[49m([(\u001b[38;5;124m\"\u001b[39m\u001b[38;5;124mH\u001b[39m\u001b[38;5;124m\"\u001b[39m, \u001b[38;5;241m2\u001b[39m), (\u001b[38;5;124m\"\u001b[39m\u001b[38;5;124mO\u001b[39m\u001b[38;5;124m\"\u001b[39m, \u001b[38;5;241m1\u001b[39m)])\n\u001b[0;32m      4\u001b[0m \u001b[38;5;66;03m# sẽ được như\u001b[39;00m\n\u001b[0;32m      5\u001b[0m mol \u001b[38;5;241m=\u001b[39m \u001b[38;5;124mr\u001b[39m\u001b[38;5;124m\"\u001b[39m\u001b[38;5;124m\\\u001b[39m\u001b[38;5;124mtext\u001b[39m\u001b[38;5;132;01m{H}\u001b[39;00m\u001b[38;5;124m_2\u001b[39m\u001b[38;5;124m\\\u001b[39m\u001b[38;5;124mtext\u001b[39m\u001b[38;5;132;01m{O}\u001b[39;00m\u001b[38;5;124m\"\u001b[39m\n",
      "\u001b[1;31mNameError\u001b[0m: name 'chemical_formula' is not defined"
     ]
    }
   ],
   "source": [
    "from IPython.display import Latex\n",
    "\n",
    "mol = chemical_formula([(\"H\", 2), (\"O\", 1)])\n",
    "# sẽ được như\n",
    "mol = r\"\\text{H}_2\\text{O}\"\n",
    "\n",
    "print(mol)\n",
    "Latex(\"$\" + mol + \"$\")"
   ]
  },
  {
   "cell_type": "markdown",
   "metadata": {
    "id": "sFi1m1uwIA0q"
   },
   "source": [
    "Mở rộng hàm trên để cho phép công thức có chứa các nhóm nguyên tử. Chẳng hạn, công thức hóa học của nhôm sunfat $\\text{Al}_2(\\text{S}\\text{O}_4)_3$ có thể được mô tả bởi danh sách `[(\"Al\", 2), ([(\"S\", 1), (\"O\", 4)], 3)]`."
   ]
  },
  {
   "cell_type": "code",
   "execution_count": null,
   "metadata": {
    "id": "EblSe5DjIA0r",
    "outputId": "53a586a7-a110-463f-e829-eda99bd494f5"
   },
   "outputs": [],
   "source": [
    "mol = chemical_formula([(\"Al\", 2), ([(\"S\", 1), (\"O\", 4)], 3)])\n",
    "# sẽ được như\n",
    "mol = r\"\\text{Al}_2(\\text{S}\\text{O}_4)_3\"\n",
    "\n",
    "print(mol)\n",
    "Latex(\"$\" + mol + \"$\")"
   ]
  },
  {
   "cell_type": "markdown",
   "metadata": {
    "id": "UwdgdVldIA0r"
   },
   "source": [
    "Một **phản ứng hóa học** (chemical reaction) có thể được mô tả bởi 2 danh sách: danh sách các **phân tử tham gia phản ứng** (reactant) và danh sách các **phân tử sản phẩm** (product). Viết hàm cân bằng phản ứng hóa học và trả về chuỗi biểu diễn LaTeX của **phương trình hóa học** (chemical equation) đã cân bằng."
   ]
  },
  {
   "cell_type": "code",
   "execution_count": null,
   "metadata": {
    "id": "6b5RWOkhIA0r"
   },
   "outputs": [],
   "source": [
    "def balance_chemical_equation(lhs, rhs):\n",
    "    \"lhs là danh sách các phân tử tham gia phản ứng, rhs là danh sách các phân tử sản phẩm\"\n",
    "    pass # TODO"
   ]
  },
  {
   "cell_type": "code",
   "execution_count": null,
   "metadata": {
    "id": "wHy9xlFLIA0r",
    "outputId": "8b392604-af96-43b4-cff8-89cd8bb7daf0"
   },
   "outputs": [],
   "source": [
    "H2O = [(\"H\", 2), (\"O\", 1)]\n",
    "H2 = [(\"H\", 2)]\n",
    "O2 = [(\"O\", 2)]\n",
    "\n",
    "equation = balance_chemical_equation([H2O], [H2, O2])\n",
    "# sẽ được như\n",
    "equation = r\"2\\text{H}_2\\text{O} \\to 2\\text{H}_2 + \\text{O}_2\"\n",
    "\n",
    "print(equation)\n",
    "Latex(\"$$\" + equation + \"$$\")"
   ]
  },
  {
   "cell_type": "code",
   "execution_count": null,
   "metadata": {
    "id": "e1uKO7V3IA0r",
    "outputId": "4a252652-14ee-4d37-865a-f5f4b3fd2168"
   },
   "outputs": [],
   "source": [
    "Al_OH3 = [(\"Al\", 1), ([(\"O\", 1), (\"H\", 1)], 3)]\n",
    "H2_SO4 = [(\"H\", 2), ([(\"S\", 1), (\"O\", 4)], 1)]\n",
    "Al2_SO43 = [(\"Al\", 2), ([(\"S\", 1), (\"O\", 4)], 3)]\n",
    "H2O = [(\"H\", 2), (\"O\", 1)]\n",
    "\n",
    "equation = balance_chemical_equation([Al_OH3, H2_SO4], [Al2_SO43, H2O])\n",
    "# sẽ được như\n",
    "equation = r\"2\\text{Al}(\\text{O}\\text{H})_3 + 3\\text{H}_2\\text{S}\\text{O}_4 \\to \\text{Al}_2(\\text{S}\\text{O}_4)_3 + 6\\text{H}_2\\text{O}\"\n",
    "\n",
    "print(equation)\n",
    "Latex(\"$$\" + equation + \"$$\")"
   ]
  }
 ],
 "metadata": {
  "colab": {
   "provenance": []
  },
  "interpreter": {
   "hash": "15af99fd1a1a3f0a3416ea421564e792a8676a13670c2eed127d89ab0518a27b"
  },
  "kernelspec": {
   "display_name": "Python 3 (ipykernel)",
   "language": "python",
   "name": "python3"
  },
  "language_info": {
   "codemirror_mode": {
    "name": "ipython",
    "version": 3
   },
   "file_extension": ".py",
   "mimetype": "text/x-python",
   "name": "python",
   "nbconvert_exporter": "python",
   "pygments_lexer": "ipython3",
   "version": "3.11.0"
  },
  "toc": {
   "base_numbering": 1,
   "nav_menu": {},
   "number_sections": true,
   "sideBar": true,
   "skip_h1_title": false,
   "title_cell": "Table of Contents",
   "title_sidebar": "Contents",
   "toc_cell": false,
   "toc_position": {},
   "toc_section_display": true,
   "toc_window_display": false
  }
 },
 "nbformat": 4,
 "nbformat_minor": 1
}
